{
  "nbformat": 4,
  "nbformat_minor": 0,
  "metadata": {
    "colab": {
      "name": "Assignment02_601.ipynb",
      "provenance": [],
      "collapsed_sections": [],
      "authorship_tag": "ABX9TyO0+FYvopA1J5QVPbvH3TaZ",
      "include_colab_link": true
    },
    "kernelspec": {
      "name": "python3",
      "display_name": "Python 3"
    },
    "language_info": {
      "name": "python"
    }
  },
  "cells": [
    {
      "cell_type": "markdown",
      "metadata": {
        "id": "view-in-github",
        "colab_type": "text"
      },
      "source": [
        "<a href=\"https://colab.research.google.com/github/akukudala/Data_601/blob/main/Assignment02_601.ipynb\" target=\"_parent\"><img src=\"https://colab.research.google.com/assets/colab-badge.svg\" alt=\"Open In Colab\"/></a>"
      ]
    },
    {
      "cell_type": "markdown",
      "source": [
        "# Assignment 2 (601)\n",
        "## **Name**: Akshitha Kukudala"
      ],
      "metadata": {
        "id": "RJG0-8vCHaRt"
      }
    },
    {
      "cell_type": "markdown",
      "source": [
        "* Write a function that returns the count of characters and words in a string. The string is provided to the function as an argument.\n",
        "* Write a function that takes a list as the argument and returns a list with each element shifted right by one index. For example, [3, 7, 4, 1] becomes [1, 3, 7, 4].\n",
        "* Download data in CSV format. Load the data into a Pandas dataframe. Use Pandas to count the number of rows of data and number of columns. Your selection of a CSV should have at least 2 columns and at least 10 rows."
      ],
      "metadata": {
        "id": "TOd4YFRIHjBE"
      }
    },
    {
      "cell_type": "code",
      "execution_count": 10,
      "metadata": {
        "colab": {
          "base_uri": "https://localhost:8080/"
        },
        "id": "oKN95S9lHZOW",
        "outputId": "a5077931-45c7-4e69-907d-87318c547360"
      },
      "outputs": [
        {
          "output_type": "stream",
          "name": "stdout",
          "text": [
            "Total words in the given string  8\n",
            "Total characters in the given string  48\n"
          ]
        }
      ],
      "source": [
        "def countfunc(str):\n",
        "      charC=0\n",
        "      wordC=0\n",
        "      mainstr=str.split()\n",
        "      wordC=len(mainstr)\n",
        "      for word in mainstr:\n",
        "          charC+=len(word)\n",
        "      print(\"Total words in the given string \",wordC)\n",
        "      print(\"Total characters in the given string \",charC)\n",
        "countfunc(\"Welcome to University of Maryland Baltimore County, USA\")"
      ]
    },
    {
      "cell_type": "code",
      "source": [
        "def ListShift(lists):                 # Function Definition to shift an index by 1\n",
        "    newlist = []\n",
        "    l=len(lists) # Length of the lists\n",
        "    for i in range(l - 1, l):\n",
        "        newlist.append(lists[i])      # Adding only the last item from the list\n",
        "    for j in range(0, l - 1):\n",
        "        newlist.append(lists[j])\n",
        "    return newlist                    # Appending the remaning values which will have the updated index value\n",
        "\n",
        "testlist = [11, 12, 63, 44, 78, 37]\n",
        "print(\"List is \",testlist) \n",
        "print(\"List, after shifting the index by 1 \",ListShift(testlist))"
      ],
      "metadata": {
        "colab": {
          "base_uri": "https://localhost:8080/"
        },
        "id": "qMGZmCRtI6ol",
        "outputId": "0de2f665-2ec0-44ba-9c5c-2d5d99458300"
      },
      "execution_count": 11,
      "outputs": [
        {
          "output_type": "stream",
          "name": "stdout",
          "text": [
            "List is  [11, 12, 63, 44, 78, 37]\n",
            "List, after shifting the index by 1  [37, 11, 12, 63, 44, 78]\n"
          ]
        }
      ]
    },
    {
      "cell_type": "code",
      "source": [
        "import pandas as pd # Importing Pandas \n",
        "# Reading the file in raw format from Git repository\n",
        "df = pd.read_csv('https://raw.githubusercontent.com/akukudala/Data_601/main/cities.csv') \n",
        "print(\"Number of rows and columns - \", df.shape) # Displaying the number of rows and columns\n",
        "print(\"Number of rows - \", df.shape[0]) # Displaying the number of rows\n",
        "print(\"Number of columns - \", df.shape[1]) # Displaying the number of columns"
      ],
      "metadata": {
        "colab": {
          "base_uri": "https://localhost:8080/"
        },
        "id": "8YyHucKMJLDr",
        "outputId": "f929ada7-5ae4-451e-d572-fb38f5b2f7f5"
      },
      "execution_count": 12,
      "outputs": [
        {
          "output_type": "stream",
          "name": "stdout",
          "text": [
            "Number of rows and columns -  (128, 10)\n",
            "Number of rows -  128\n",
            "Number of columns -  10\n"
          ]
        }
      ]
    }
  ]
}