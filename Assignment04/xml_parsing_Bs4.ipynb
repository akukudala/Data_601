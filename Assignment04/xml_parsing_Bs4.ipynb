{
  "nbformat": 4,
  "nbformat_minor": 0,
  "metadata": {
    "colab": {
      "name": "xml_parsing_Bs4.ipynb",
      "provenance": [],
      "collapsed_sections": [],
      "authorship_tag": "ABX9TyNapzSIOhKDRsnIetpy0RVy",
      "include_colab_link": true
    },
    "kernelspec": {
      "name": "python3",
      "display_name": "Python 3"
    },
    "language_info": {
      "name": "python"
    }
  },
  "cells": [
    {
      "cell_type": "markdown",
      "metadata": {
        "id": "view-in-github",
        "colab_type": "text"
      },
      "source": [
        "<a href=\"https://colab.research.google.com/github/akukudala/Data_601/blob/main/xml_parsing_Bs4.ipynb\" target=\"_parent\"><img src=\"https://colab.research.google.com/assets/colab-badge.svg\" alt=\"Open In Colab\"/></a>"
      ]
    },
    {
      "cell_type": "code",
      "execution_count": 1,
      "metadata": {
        "id": "VHwqEQ9i6OIe"
      },
      "outputs": [],
      "source": [
        "import xml.etree.ElementTree as ET"
      ]
    },
    {
      "cell_type": "code",
      "source": [
        "tree = ET.parse('xml_containing_html.xml')    #Parsing the xml by using ElementTree packages\n",
        "root = tree.getroot()"
      ],
      "metadata": {
        "id": "PGgWmWDA6VNu"
      },
      "execution_count": 2,
      "outputs": []
    },
    {
      "cell_type": "code",
      "source": [
        "c=0                               # Counting the number of child tags in root tag\n",
        "for child in root:\n",
        "    c=c+1\n",
        "print(c)"
      ],
      "metadata": {
        "colab": {
          "base_uri": "https://localhost:8080/"
        },
        "id": "sM5pA2WC6gqq",
        "outputId": "36fa692d-253e-4b3f-e39c-f4f7707eb402"
      },
      "execution_count": 3,
      "outputs": [
        {
          "output_type": "stream",
          "name": "stdout",
          "text": [
            "125\n"
          ]
        }
      ]
    },
    {
      "cell_type": "code",
      "source": [
        "from bs4 import BeautifulSoup\n",
        "from html import unescape               #NUmber of links per each HTML tag\n",
        "#soup = BeautifulSoup(unescape(testxml1), 'html.parser')\n",
        "for i in range(0,c):\n",
        "    soup = BeautifulSoup(root[i][0].text, 'html.parser')\n",
        "    for a in soup.find_all('a', href=True):\n",
        "        print ( \"Number of links in the html - \",i)\n",
        "        print ( len(a['href']))"
      ],
      "metadata": {
        "id": "sZ2akcak7Pw2"
      },
      "execution_count": null,
      "outputs": []
    },
    {
      "cell_type": "code",
      "source": [
        "from bs4 import BeautifulSoup\n",
        "from html import unescape\n",
        "import re\n",
        "#soup = BeautifulSoup(unescape(testxml1), 'html.parser')    #Number of links per each HTML tag by using re\n",
        "for i in range(0,c):\n",
        "    soup = BeautifulSoup(root[i][0].text, 'html.parser')\n",
        "    for a in soup.find_all('a', {'href': re.compile(r'http')}):\n",
        "        print ( \"Number of links in the html - \",i)\n",
        "        print ( len(a['href']))\n",
        "    #print(soup.prettify())"
      ],
      "metadata": {
        "id": "J4E5Zkta7MCJ"
      },
      "execution_count": null,
      "outputs": []
    }
  ]
}
