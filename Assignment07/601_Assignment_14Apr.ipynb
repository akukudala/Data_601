{
  "nbformat": 4,
  "nbformat_minor": 0,
  "metadata": {
    "colab": {
      "name": "601_Assignment_14Apr.ipynb",
      "provenance": [],
      "collapsed_sections": [],
      "authorship_tag": "ABX9TyOYYUCBqtHhZhjlslLmxKg7",
      "include_colab_link": true
    },
    "kernelspec": {
      "name": "python3",
      "display_name": "Python 3"
    },
    "language_info": {
      "name": "python"
    }
  },
  "cells": [
    {
      "cell_type": "markdown",
      "metadata": {
        "id": "view-in-github",
        "colab_type": "text"
      },
      "source": [
        "<a href=\"https://colab.research.google.com/github/akukudala/Data_601/blob/main/Assignment07/601_Assignment_14Apr.ipynb\" target=\"_parent\"><img src=\"https://colab.research.google.com/assets/colab-badge.svg\" alt=\"Open In Colab\"/></a>"
      ]
    },
    {
      "cell_type": "code",
      "source": [
        "!pip install nltk"
      ],
      "metadata": {
        "colab": {
          "base_uri": "https://localhost:8080/"
        },
        "id": "aq3FINB2ti8E",
        "outputId": "77260ca4-5fb0-45b2-9003-7c5081253b7b"
      },
      "execution_count": 53,
      "outputs": [
        {
          "output_type": "stream",
          "name": "stdout",
          "text": [
            "Requirement already satisfied: nltk in /usr/local/lib/python3.7/dist-packages (3.2.5)\n",
            "Requirement already satisfied: six in /usr/local/lib/python3.7/dist-packages (from nltk) (1.15.0)\n"
          ]
        }
      ]
    },
    {
      "cell_type": "code",
      "execution_count": 88,
      "metadata": {
        "id": "HuVFgjtXkVuY"
      },
      "outputs": [],
      "source": [
        "import string\n",
        "import io\n",
        "import codecs\n",
        "#>>>f = io.open(\"test\", mode=\"r\", encoding=\"utf-8\")\n",
        "def remove_punc(test):\n",
        "    #test = open(test, \"r\")\n",
        "    #text = open(test, mode=\"r\", encoding='utf-8').read()\n",
        "    #text = test.encode('UTF-8')\n",
        "    #test = test.read()\n",
        "    \n",
        "    text = codecs.open(test, 'r', encoding='utf-8',\n",
        "                 errors='ignore').read()\n",
        "    #text.close()\n",
        "\n",
        "    for e in string.punctuation:\n",
        "        if e in text:\n",
        "            text = text.replace(e, \"\")\n",
        "            text_list = text.split()\n",
        "            words = {}\n",
        "    for word in text_list:\n",
        "        if word in words:\n",
        "            words[word] +=1\n",
        "        else:\n",
        "            words[word] = 1\n",
        "\n",
        "    list1 = []\n",
        "    for key, val in words.items():\n",
        "        if val == 1:\n",
        "            list1.append(key)\n",
        "    print (','.join(list1))\n",
        "    str2 = \" \".join(str(x) for x in list1)\n",
        "    return str2\n",
        "\n",
        " "
      ]
    },
    {
      "cell_type": "code",
      "source": [
        "def stpwrd(Full_list):\n",
        "    from nltk.corpus import stopwords\n",
        "\n",
        "    from nltk.tokenize import word_tokenize\n",
        "    from nltk.corpus import stopwords\n",
        "    import nltk\n",
        "    nltk.download('punkt')\n",
        "    nltk.download('stopwords')\n",
        "    text_tokens = word_tokenize(Full_list)\n",
        "\n",
        "    tokens_without_sw = [word for word in text_tokens if not word in stopwords.words()]\n",
        "\n",
        "    return tokens_without_sw"
      ],
      "metadata": {
        "id": "19lyOQ_4sbuO"
      },
      "execution_count": 80,
      "outputs": []
    },
    {
      "cell_type": "code",
      "source": [
        "finalliststr1 = stpwrd(remove_punc(\"week_8_document2.txt\"))"
      ],
      "metadata": {
        "colab": {
          "base_uri": "https://localhost:8080/"
        },
        "id": "VgrgVqdstJa8",
        "outputId": "0eb4ddf2-9682-441a-9a14-ccd19f486540"
      },
      "execution_count": 89,
      "outputs": [
        {
          "output_type": "stream",
          "name": "stdout",
          "text": [
            "Dr,Earl,Vickers,Boring,Bedtime,Stories,Anthology,Insomniacs,started,harmlessly,enough,highschool,science,fair,project,Why,Are,Yawns,Contagious,thing,led,here,worlds,foremost,expert,cared,topic,equally,suicidal,career,conferences,cocktail,For,reasons,fully,understand,discussion,considered,rude,andor,act,itself,mere,mention,inevitably,bring,minor,epidemic,uncontrollable,whether,back,disguised,right,face,way,ruined,countless,conventions,meetings,concerts,bachelor,wedding,receptions,number,invitations,both,professional,dwindled,nothing,doubly,unfortunate,because,lasted,encounters,served,laboratories,additional,field,conclusion,illfated,encounter,quietly,retire,corner,room,take,meticulous,notes,Sometimes,surreptitiously,stopwatch,carefully,noting,length,initial,gestation,predelay,duration,inspiratory,phase,precise,moment,acme,orgasmic,peak,short,expiration,interval,bystanders,afflicted,gather,much,data,possible,regarding,involved,effort,derive,correlations,personality,type,susceptibility,Realizing,most,share,fascination,learning,yawnings,paralinguistic,value,complex,arousal,defense,reflex,origin,reticular,brainstem,theories,relation,borderline,hypoxia,tried,spice,famous,quotations,Aristotles,As,urinates,sees,hears,doing,someone,even,used,joke,pharmacological,connection,spontaneous,erection,Am,I,death,are,just,happy,see,me,without,fail,recipient,conversations,ask,excused,covering,mouth,make,beeline,anywhere,Sadly,work,years,seemed,unable,concentrate,Often,fall,asleep,middle,writing,Even,complete,article,either,accepted,rejected,simply,ignored,manuscript,become,unreadable,academic,world,publish,path,Students,came,office,more,missed,bright,inquisitive,lighting,briefly,eventually,disappearing,heavy,lids,flame,curiosity,gradually,flickering,wind,physiologic,finally,extinguished,serotoninergic,inhibition,neuromuscular,spindles,adrenocorticotropic,hormonerelated,peptides,hypothalamic,dopaminergic,mechanisms,particularly,enjoyed,showing,nearly,fascinating,hung,wall,believed,should,have,been,priceless,apparently,dated,Renaissance,obtain,ignorant,owner,few,hundred,dollars,suspected,spoken,Leonardo,da,Vinci,artist,painted,made,everybody,saw,repeatedly,kept,represented,hoped,impress,reality,immediacy,phenomenon,trigger,avalanche,questions,often,suddenly,remember,urgent,appointment,side,campus,His,lectures,reputation,mesmerizing,least,somniferous,rumored,render,entire,classroom,unconscious,certainly,exaggeration,displayed,remarkable,ingenuity,devising,ways,conceal,stifle,swallow,They,developed,elaborate,alarm,systems,keep,exams,called,class,Meanwhile,insomnia,frequently,audit,classes,search,cure,condition,On,evening,sat,reviewing,recalled,some,satisfaction,breakthroughs,areas,fetal,temporary,yawnrelated,hearing,loss,hysterical,paroxysmal,fondly,remembered,mostly,seated,ovation,received,those,still,finished,presenting,groundbreaking,mate,selection,While,nontechnical,book,Joy,Yawning,monograph,Proudly,never,quite,reached,broader,audiences,whom,intended,nonetheless,proud,efforts,popularize,done,all,could,Not,bad,reflected,stretching,out,closing,Soon,perhaps,dean,mayor,President,awaken,him,asking,help,something,kidnapping,terrorist,plot,expertise,desperately,needed,megaphone,cell,phone,placed,dulcet,tones,calming,relaxing,defusing,situation,everyone,drifts,off,soft,warm,comfortable,problems,cant,wait,day,now,wake,tomorrow,thanks,grateful,nation,httpswwwmuseumofconceptualartcomstoriesboringbedtimestoriesdryawnhtml\n",
            "[nltk_data] Downloading package punkt to /root/nltk_data...\n",
            "[nltk_data]   Package punkt is already up-to-date!\n",
            "[nltk_data] Downloading package stopwords to /root/nltk_data...\n",
            "[nltk_data]   Package stopwords is already up-to-date!\n"
          ]
        }
      ]
    },
    {
      "cell_type": "code",
      "source": [
        "finalliststr2 = stpwrd(remove_punc(\"week_8_document1.docx\"))"
      ],
      "metadata": {
        "colab": {
          "base_uri": "https://localhost:8080/"
        },
        "id": "NKwB1mmptWLj",
        "outputId": "b624d883-3275-433b-a7f7-aa656c9c80d0"
      },
      "execution_count": 90,
      "outputs": [
        {
          "output_type": "stream",
          "name": "stdout",
          "text": [
            "PK\u0003\u0004\u0014\u0000\u0006\u0000\b\u0000N\u0004TM\u0001\u0000\u0000\u001b\u0005\u0000\u0000\u0013\u0000\b\u0002ContentTypesxml,\u0004\u0002\u0000\u0002\u0000\u0000\u0000\u0000\u0000\u0000\u0000\u0000\u0000\u0000\u0000\u0000\u0000\u0000\u0000\u0000\u0000\u0000\u0000\u0000\u0000\u0000\u0000\u0000\u0000\u0000\u0000\u0000\u0000\u0000\u0000\u0000\u0000\u0000\u0000\u0000\u0000\u0000\u0000\u0000\u0000\u0000\u0000\u0000\u0000\u0000\u0000\u0000\u0000\u0000\u0000\u0000\u0000\u0000\u0000\u0000\u0000\u0000\u0000\u0000\u0000\u0000\u0000\u0000\u0000\u0000\u0000\u0000\u0000\u0000\u0000\u0000\u0000\u0000\u0000\u0000\u0000\u0000\u0000\u0000\u0000\u0000\u0000\u0000\u0000\u0000\u0000\u0000\u0000\u0000\u0000\u0000\u0000\u0000\u0000\u0000\u0000\u0000\u0000\u0000\u0000\u0000\u0000\u0000\u0000\u0000\u0000\u0000\u0000\u0000\u0000\u0000\u0000\u0000\u0000\u0000\u0000\u0000\u0000\u0000\u0000\u0000\u0000\u0000\u0000\u0000\u0000\u0000\u0000\u0000\u0000\u0000\u0000\u0000\u0000\u0000\u0000\u0000\u0000\u0000\u0000\u0000\u0000\u0000\u0000\u0000\u0000\u0000\u0000\u0000\u0000\u0000\u0000\u0000\u0000\u0000\u0000\u0000\u0000\u0000\u0000\u0000\u0000\u0000\u0000\u0000\u0000\u0000\u0000\u0000\u0000\u0000\u0000\u0000\u0000\u0000\u0000\u0000\u0000\u0000\u0000\u0000\u0000\u0000\u0000\u0000\u0000\u0000\u0000\u0000\u0000\u0000\u0000\u0000\u0000\u0000\u0000\u0000\u0000\u0000\u0000\u0000\u0000\u0000\u0000\u0000\u0000\u0000\u0000\u0000\u0000\u0000\u0000\u0000\u0000\u0000\u0000\u0000\u0000\u0000\u0000\u0000\u0000\u0000\u0000\u0000\u0000\u0000\u0000\u0000\u0000\u0000\u0000\u0000\u0000\u0000\u0000\u0000\u0000\u0000\u0000\u0000\u0000\u0000\u0000\u0000\u0000\u0000\u0000\u0000\u0000\u0000\u0000\u0000\u0000\u0000\u0000\u0000\u0000\u0000\u0000\u0000\u0000\u0000\u0000\u0000\u0000\u0000\u0000\u0000\u0000\u0000\u0000\u0000\u0000\u0000\u0000\u0000\u0000\u0000\u0000\u0000\u0000\u0000\u0000\u0000\u0000\u0000\u0000\u0000\u0000\u0000\u0000\u0000\u0000\u0000\u0000\u0000\u0000\u0000\u0000\u0000\u0000\u0000\u0000\u0000\u0000\u0000\u0000\u0000\u0000\u0000\u0000\u0000\u0000\u0000\u0000\u0000\u0000\u0000\u0000\u0000\u0000\u0000\u0000\u0000\u0000\u0000\u0000\u0000\u0000\u0000\u0000\u0000\u0000\u0000\u0000\u0000\u0000\u0000\u0000\u0000\u0000\u0000\u0000\u0000\u0000\u0000\u0000\u0000\u0000\u0000\u0000\u0000\u0000\u0000\u0000\u0000\u0000\u0000\u0000\u0000\u0000\u0000\u0000\u0000\u0000\u0000\u0000\u0000\u0000\u0000\u0000\u0000\u0000\u0000\u0000\u0000\u0000\u0000\u0000\u0000\u0000\u0000\u0000\u0000\u0000\u0000\u0000\u0000\u0000\u0000\u0000\u0000\u0000\u0000\u0000\u0000\u0000\u0000\u0000\u0000\u0000\u0000\u0000\u0000\u0000\u0000\u0000\u0000\u0000\u0000\u0000\u0000\u0000\u0000\u0000\u0000\u0000\u0000\u0000\u0000\u0000\u0000\u0000\u0000\u0000\u0000\u0000\u0000\u0000\u0000\u0000\u0000\u0000\u0000\u0000\u0000\u0000\u0000\u0000\u0000\u0000\u0000\u0000\u0000\u0000\u0000\u0000\u0000\u0000\u0000\u0000\u0000\u0000\u0000\u0000\u0000\u0000\u0000\u0000\u0000\u0000\u0000\u0000\u0000\u0000\u0000\u0000\u0000\u0000\u0000\u0000\u0000\u0000\u0000\u0000\u0000\u0000\u0000\u0000\u0000\u0000\u0000\u0000\u0000\u0000\u0000\u0000\u0000\u0000\u0000\u0000\u0000\u0000\u0000\u0000\u0000\u0000\u0000\u0000\u0000\u0000\u0000\u0000\u0000\u0000\u0000\u0000\u0000\u0000\u0000MN0\u0010byn\b5\u0002Bz\u0001י\u0016\u001b,\u0015mPi\u0010Hɼy\u001b㏷dk,CLڻ\u000fg\u0014Uvl\u0017,1Tb\u0013Xr,QJ׸\u0010AW\u00001o\u000ea\u0007,qKl\u00048o52\u0004DQF,8\u0013\u0011MG¡N\u0012TFdbcJVZy\u0013QUi\u0005\u0007,HؚXRg\u00031Z\u0001޹\u0006\u0016yw397p,G\u0014H\bspqCՎ\u0018uwF\u0007\u0010k\u00144W\u0013PK\u0003\u0004\u0014\u0000\u0006\u0000\b\u0000\u0002N\u0000\u0000\u0000C\u0002\u0000\u0000,\u0000\b\u0002relsrels,\u0004\u0002\u0000\u0002\u0000\u0000\u0000\u0000\u0000\u0000\u0000\u0000\u0000\u0000\u0000\u0000\u0000\u0000\u0000\u0000\u0000\u0000\u0000\u0000\u0000\u0000\u0000\u0000\u0000\u0000\u0000\u0000\u0000\u0000\u0000\u0000\u0000\u0000\u0000\u0000\u0000\u0000\u0000\u0000\u0000\u0000\u0000\u0000\u0000\u0000\u0000\u0000\u0000\u0000\u0000\u0000\u0000\u0000\u0000\u0000\u0000\u0000\u0000\u0000\u0000\u0000\u0000\u0000\u0000\u0000\u0000\u0000\u0000\u0000\u0000\u0000\u0000\u0000\u0000\u0000\u0000\u0000\u0000\u0000\u0000\u0000\u0000\u0000\u0000\u0000\u0000\u0000\u0000\u0000\u0000\u0000\u0000\u0000\u0000\u0000\u0000\u0000\u0000\u0000\u0000\u0000\u0000\u0000\u0000\u0000\u0000\u0000\u0000\u0000\u0000\u0000\u0000\u0000\u0000\u0000\u0000\u0000\u0000\u0000\u0000\u0000\u0000\u0000\u0000\u0000\u0000\u0000\u0000\u0000\u0000\u0000\u0000\u0000\u0000\u0000\u0000\u0000\u0000\u0000\u0000\u0000\u0000\u0000\u0000\u0000\u0000\u0000\u0000\u0000\u0000\u0000\u0000\u0000\u0000\u0000\u0000\u0000\u0000\u0000\u0000\u0000\u0000\u0000\u0000\u0000\u0000\u0000\u0000\u0000\u0000\u0000\u0000\u0000\u0000\u0000\u0000\u0000\u0000\u0000\u0000\u0000\u0000\u0000\u0000\u0000\u0000\u0000\u0000\u0000\u0000\u0000\u0000\u0000\u0000\u0000\u0000\u0000\u0000\u0000\u0000\u0000\u0000\u0000\u0000\u0000\u0000\u0000\u0000\u0000\u0000\u0000\u0000\u0000\u0000\u0000\u0000\u0000\u0000\u0000\u0000\u0000\u0000\u0000\u0000\u0000\u0000\u0000\u0000\u0000\u0000\u0000\u0000\u0000\u0000\u0000\u0000\u0000\u0000\u0000\u0000\u0000\u0000\u0000\u0000\u0000\u0000\u0000\u0000\u0000\u0000\u0000\u0000\u0000\u0000\u0000\u0000\u0000\u0000\u0000\u0000\u0000\u0000\u0000\u0000\u0000\u0000\u0000\u0000\u0000\u0000\u0000\u0000\u0000\u0000\u0000\u0000\u0000\u0000\u0000\u0000\u0000\u0000\u0000\u0000\u0000\u0000\u0000\u0000\u0000\u0000\u0000\u0000\u0000\u0000\u0000\u0000\u0000\u0000\u0000\u0000\u0000\u0000\u0000\u0000\u0000\u0000\u0000\u0000\u0000\u0000\u0000\u0000\u0000\u0000\u0000\u0000\u0000\u0000\u0000\u0000\u0000\u0000\u0000\u0000\u0000\u0000\u0000\u0000\u0000\u0000\u0000\u0000\u0000\u0000\u0000\u0000\u0000\u0000\u0000\u0000\u0000\u0000\u0000\u0000\u0000\u0000\u0000\u0000\u0000\u0000\u0000\u0000\u0000\u0000\u0000\u0000\u0000\u0000\u0000\u0000\u0000\u0000\u0000\u0000\u0000\u0000\u0000\u0000\u0000\u0000\u0000\u0000\u0000\u0000\u0000\u0000\u0000\u0000\u0000\u0000\u0000\u0000\u0000\u0000\u0000\u0000\u0000\u0000\u0000\u0000\u0000\u0000\u0000\u0000\u0000\u0000\u0000\u0000\u0000\u0000\u0000\u0000\u0000\u0000\u0000\u0000\u0000\u0000\u0000\u0000\u0000\u0000\u0000\u0000\u0000\u0000\u0000\u0000\u0000\u0000\u0000\u0000\u0000\u0000\u0000\u0000\u0000\u0000\u0000\u0000\u0000\u0000\u0000\u0000\u0000\u0000\u0000\u0000\u0000\u0000\u0000\u0000\u0000\u0000\u0000\u0000\u0000\u0000\u0000\u0000\u0000\u0000\u0000\u0000\u0000\u0000\u0000\u0000\u0000\u0000\u0000\u0000\u0000\u0000\u0000\u0000\u0000\u0000\u0000\u0000\u0000\u0000\u0000\u0000\u0000\u0000\u0000\u0000\u0000\u0000\u0000\u0000\u0000\u0000\u0000\u0000\u0000\u0000\u0000\u0000\u0000\u0000\u0000\u0000\u0000\u0000\u0000\u0000\u0000\u0000\u0000\u0000\u0000\u0000\u0000\u0000\u0000\u0000\u0000\u0000\u0000KN\u00031,\u0012yt\u0010BMz\u0001D4\u000fH,\u0012uiQWŠa8h4,ef\u0003IM٥J\u001aftX̞J\u0017\u0013\u0019c\u00132w41\u000e\u0003Z\u000f1397pl\u0017,E榶,RJEY,ygJ,\u0017zK4FFRڏ\b߅,WPK\u0003\u0004\u0014\u0000\u0006\u0000\b\u00005LEŀ\u0006\u0000\u0000\u0000\u0000\u0015\u0000\u0000\u0000wordthemetheme1xmlZo6\u0014\u000fZ\u0016lh\u000e2mD\u0018E\u000e\u00180\u001bvXv\u0018\u0015h\u0003\u0013Gdk\u0000EE\u0017\u00041ښqN\u0000Ѥĸ\u0000\u00170\u001aABk\u0005x\u0004D,z\u0019st7BI,Iu,B,i,c,R\u0000,M\u0012iL¶d4V,\u0019\u0018ˤϹG\u0018؅I\u001bFto\u001b,\u0010ȅhkzH\u0016iS䓥Ls\u0019J6\u00199˶NSBcuN5KJ깽QLUUcTUB5\u0018x\u0005\u001b,RTvS9TYn1,\bvJtix\u0019Sre\u00032eq2OSwLQC\u000eTm,P\b\u0014,x0\u0014Ff\u0007zCVKٵ,\u0017zc\u0017\u0000\u0019VK짗ϞO\u000fz,hx×,\u0017\u000f41y\u0017,apFn\u0010qp,큛4P\u001aW\u0006o\u0007\u0010ha\u0004cx9\u0002\u0005xm\u000e,t,\u0015˳s\u0001,\u001a,fRҥ\u0014W\u0013cRqEJ,nqfcgSbK7kpGw\u0010ggӱ\u00001B\u0015m\u00148Kn4IhW\u0005ɄbD5,g\u0002UA\u001bP\u0004\u0015\u000em͙\u0017rM\u0010BWUYq,S\u0001ڀA\u00050V,\u0006\u0015UVR5k0ZgHr5DUf\u0011Uk͜R7\u0004QT\u0015UJ,Zadd\u0015t,HV7F,E7P\u0004ޫ\u0004W3kT7\u0019Y,ݦn1dK,\u00192LN5\u001243nՋ\u0012a0i\u0005O\b\u00028\u0019Zv,WZ6RLjr\u0003\u0017gYIGqBqT,JsX,t\u0015,ٙu,kuzycUsi,\u0017M\u0004,\u0018涭Ç܇\u0004ȥQ,Ro1ZYڣz\u00028BUV\u000eJJ,nLE\u001b3GRL\u0015a,8mkcy\u0007S9\u000f8L,b\u0019SWKyB0e,\u000f\u0016dX\u000e,V\u0004bPǂkr0,󸥿,k\u00004,\u0014gAKr\u0016N8t\u0015MWvx\u00070\u00170UlAFWTfjx2\u0012i\u0000\u000f\u000fG\u0005cA\u0005EAX\u0015Lf,7r2NάԹERJ\u000fZ\b,kxGTJQBXD8cݻC,\u000egXXӒb\u0013udxGV,\u001a\u0019\u0011pXz\u0005,ǂJM\u0019mnwϴ޴5a鵦i03\u0011k\u0000CL懯WW£a\u001aiW,sV\u0000ːuAV3YnnxnofkpO\u0003߬9Ghje,4Vʳ\u0006i\u0019\u0002PK\u0003\u0004\u0014\u0000\u0006\u0000\b\u0000NUS\u0003\u0000\u0000,\u0000\u0000\u0011\u0000\u0000\u0000wordsettingsxmlVn6\u0014\u0015AȒ8E,kx,\u0001\u0006\u0016\u0015vH\u0016Lo8D\u001bήqDD1\u0015UYƑHĤ,L,\u0016L\u0004\u000exw֪MM,WM9ϭJj\u0015COxp\u0016B6,\u0013qY\b0A,\u0004oz\u0003p\u0017UĞe,GKs\u0006J˚\u0018\u0003\u0003H\u0018xcy6AʁaTCH,Nu\u0015R\u0001\b2,IɣPD0\u001b\u0004\u0018\u0004\u0006R,A\u0012\u0001wH\u0012TCRXYP7i,\u0004\b3o\u0006vE彋Cx4H\u0012OV\u0014zG,̀\b\u0017\u0003,ANh\u001a,Z\u0007a\u001am\u001a\u0002ElDTη,A\u0018\u0006NG­u89FWi6SBE3lɀ\u0018\u0018\u0007\u0007d2\u0000\u001auG6HoGAG,џDe\u0006HS,l\u0016l\u0007Uy\u0013OV\u000flTWX跧sDaLndgmUvg37\u000e,7,,P\u00030,ћ\u0006t͂l6A6,e,8\u000eޕfT\u0003\u001bɘ\b7,RZa3h\u0017ؙ\u0004S,E1Gn,o3tSvV0H3kOWٸ\u0015Sfyոx\u001950\u0015iu\u0000l׷\u0002Nt2\u0004yO\u0017˻q4ʳ\b\u0005C\u001ae\u000eylᣔ6v,4ezUO7\u0002PK\u0003\u0004\u0014\u0000\u0006\u0000\b\u0000N\u0013\u0001\u0000\u0000\u0004\u0000\u0000\u0012\u0000\u0000\u0000wordfontTablexmlj0\u0014oEcNaPc\u0006\u0014EEatx\u0016vYkT\u0006zi4I\u000fْ3FmmJ,5\u0010p\u0002\u0000\u0004wi\u001bBW,V\u001a\u000e3If\u0001\u0018݅pAVad҈,VBubk,KDgU,iGh\u0001F,xa,1F,l\u0019\u00078\u000fM\u0000\u001aǛ\u0010c7hVkFցLqRp,9ˇd\u0014,TɢsC\u0000ө,ڣ,\u0006YI,\u0018AIKGal8n,iTIaFΡ⦊J\u0006\u000fM\u000e1C\u0019,wgb,e3\u0016Ϗe߱T\u0012,Jɽ,՗P蕸PK\u0003\u0004\u0014\u0000\u0006\u0000\b\u0000\u0000\u0000\u0000m,\u0001\u0000\u0000\u0001\u0000\u0000\u0014\u0000\u0000\u0000wordwebSettingsxmlJ\u00031\u0010\u0006\u0016\u0015YTζL̤,kHI2,3,X\u0002֌,yZjpm\u0004قl7\u0014I\u001aY\u001bků\u0001,Cǎ\u0018ђW\u0016,n\u0013fWPvWf,upKʮ2D\u0015dSx\u0018t,\u00113,ueQw\u0001ܯ\u0012D\u00143S̀r,\u0018N,v1Rp\u0013\u0013\u0000\u0000\u0003\u0000PK\u0003\u0004\u0014\u0000\u0006\u0000\b\u0000NK5\u0001\u0000\u0000\u0002\u0000\u0000\u0010\u0000\b\u0001docPropsappxml,\u0004\u0001\u0000\u0001\u0000\u0000\u0000\u0000\u0000\u0000\u0000\u0000\u0000\u0000\u0000\u0000\u0000\u0000\u0000\u0000\u0000\u0000\u0000\u0000\u0000\u0000\u0000\u0000\u0000\u0000\u0000\u0000\u0000\u0000\u0000\u0000\u0000\u0000\u0000\u0000\u0000\u0000\u0000\u0000\u0000\u0000\u0000\u0000\u0000\u0000\u0000\u0000\u0000\u0000\u0000\u0000\u0000\u0000\u0000\u0000\u0000\u0000\u0000\u0000\u0000\u0000\u0000\u0000\u0000\u0000\u0000\u0000\u0000\u0000\u0000\u0000\u0000\u0000\u0000\u0000\u0000\u0000\u0000\u0000\u0000\u0000\u0000\u0000\u0000\u0000\u0000\u0000\u0000\u0000\u0000\u0000\u0000\u0000\u0000\u0000\u0000\u0000\u0000\u0000\u0000\u0000\u0000\u0000\u0000\u0000\u0000\u0000\u0000\u0000\u0000\u0000\u0000\u0000\u0000\u0000\u0000\u0000\u0000\u0000\u0000\u0000\u0000\u0000\u0000\u0000\u0000\u0000\u0000\u0000\u0000\u0000\u0000\u0000\u0000\u0000\u0000\u0000\u0000\u0000\u0000\u0000\u0000\u0000\u0000\u0000\u0000\u0000\u0000\u0000\u0000\u0000\u0000\u0000\u0000\u0000\u0000\u0000\u0000\u0000\u0000\u0000\u0000\u0000\u0000\u0000\u0000\u0000\u0000\u0000\u0000\u0000\u0000\u0000\u0000\u0000\u0000\u0000\u0000\u0000\u0000\u0000\u0000\u0000\u0000\u0000\u0000\u0000\u0000\u0000\u0000\u0000\u0000\u0000\u0000\u0000\u0000\u0000\u0000\u0000\u0000\u0000\u0000\u0000\u0000\u0000\u0000\u0000\u0000\u0000\u0000\u0000\u0000\u0000\u0000\u0000\u0000\u0000\u0000\u0000\u0000\u0000\u0000\u0000\u0000\u0000\u0000\u0000\u0000\u0000\u0000\u0000\u0000\u0000\u0000\u0000\u0000\u0000\u0000\u0000\u0000\u0000\u0000\u0000\u0000\u0000\u0000\u0000\u0000\u0000\u0000\u0000\u0000\u0000\u0000\u0000n\u0002\u0014w8F\u0017h\u0019\u0000l,wLg\u000eBTxQ,x,F1qv\u0016jA36,\u0014D,6ָMO\b\u0005c6W\u001a\u0017,O\u001865\u0012pbkrE5\u0002AI\u000fUU\u0007,kxc\u000fJ\u0004\u0017Sʭ\u0006FRp,܌5G\u0019mȁoy\u0000Dʾy\u0006\u0019a3\u0018\u0015t1,\u00013ԕtܩPgGbPK\u0003\u0004\u0014\u0000\u0006\u0000\b\u0000NHL\u0001\u0000\u0000h\u0002\u0000\u0000\u0011\u0000\u0001docPropscorexml,\u0001\u0000\u0001\u0000\u0000\u0000\u0000\u0000\u0000\u0000\u0000\u0000\u0000\u0000\u0000\u0000\u0000\u0000\u0000\u0000\u0000\u0000\u0000\u0000\u0000\u0000\u0000\u0000\u0000\u0000\u0000\u0000\u0000\u0000\u0000\u0000\u0000\u0000\u0000\u0000\u0000\u0000\u0000\u0000\u0000\u0000\u0000\u0000\u0000\u0000\u0000\u0000\u0000\u0000\u0000\u0000\u0000\u0000\u0000\u0000\u0000\u0000\u0000\u0000\u0000\u0000\u0000\u0000\u0000\u0000\u0000\u0000\u0000\u0000\u0000\u0000\u0000\u0000\u0000\u0000\u0000\u0000\u0000\u0000\u0000\u0000\u0000\u0000\u0000\u0000\u0000\u0000\u0000\u0000\u0000\u0000\u0000\u0000\u0000\u0000\u0000\u0000\u0000\u0000\u0000\u0000\u0000\u0000\u0000\u0000\u0000\u0000\u0000\u0000\u0000\u0000\u0000\u0000\u0000\u0000\u0000\u0000\u0000\u0000\u0000\u0000\u0000\u0000\u0000\u0000\u0000\u0000\u0000\u0000\u0000\u0000\u0000\u0000\u0000\u0000\u0000\u0000\u0000\u0000\u0000\u0000\u0000\u0000\u0000\u0000\u0000\u0000\u0000\u0000\u0000\u0000\u0000\u0000\u0000\u0000\u0000\u0000\u0000\u0000\u0000\u0000\u0000\u0000\u0000\u0000\u0000\u0000\u0000\u0000\u0000\u0000\u0000\u0000\u0000\u0000\u0000\u0000\u0000\u0000\u0000\u0000\u0000\u0000\u0000\u0000\u0000\u0000\u0000\u0000\u0000\u0000\u0000\u0000\u0000\u0000\u0000\u0000\u0000\u0000\u0000\u0000\u0000\u0000\u0000\u0000\u0000\u0000\u0000\u0000\u0000\u0000\u0000\u0000\u0000\u0000\u0000\u0000\u0000\u0000\u0000\u0000\u0000\u0000\u0000\u0000\u0000\u0000\u0000\u0000\u0000\u0000\u0000\u0000\u0000\u0000\u0000\u0000\u0000\u0000\u0000\u0000\u0000\u0000\u0000\u0000\u0000\u0000\u0000\u0000\u0000\u0000\u0000\u0000\u0000\u0000\u0000\u0000\u0000\u0000\u0000\u0000\u0000\u0000\u0000\u0000\u0000\u0000\u0000\u0000\u0000\u0000\u0000\u0000\u0000\u0000\u0000\u0000\u0000\u0000\u0000\u0000\u0000\u0000\u0000\u0000\u0000\u0000\u0000N0\u0018,ZcJxh\u001b۳y,\u0002n\u001b9eUz2a\u0007Z\u0018\u0017dZdXXXSE\u0005kڥRdX\u0006Ʈ\u0014\u0014Ja\u0010R2h\u0011l4dP\u001aTM\u0004MB8\u0013kC\u0005,\u0005UuKV,Ps\u0012Z\u0001rɑӮ\u000fHI\u0012y\u0003\u0002\u0016\u000e,\u0004ϝHp\u0004ERԐ\u0013yoH\u0011gE\u0018\u00058\u0019g9UUa\u001aA\u0014GɄM\u00161\u00163\u001bAC,PVriv\u0019\u0014,PK\u0003\u0004\u0014\u0000\u0006\u0000\b\u0000NJK,\u0000\u00004u\u0000\u0000\u000f\u0000\u0000\u0000wordstylesxmlv۸\u0015KW,Glˇ5Y\u0013i\u0012P\u0004,WE,HJ6p\u0011,\u000e\u0000\u001bp,\u0019\u000eG,\u0019rg˃f\u000eXc9zkSOӋu29,\u0018SdFc,R\u00054ՙWl\u0003LxJ\u0015LTO㈩9ebBjƨd寧GL8ijEaɋ7\u0018\u0004\u0007n\u0000q\u0014K\u0016\u0016S0oT\u001aHzPQYX,פHhUeU,giv,fE,o\u000f\u0016W72dS\u000f͛Y6Zh利I97ޯrd02㺋Mf\u00055\u0014AydKRA뮧4I\u0007Lp929ĭ\b\u0002,7\u000eWW,Me,NiI\u0002k,a\u0017,l37U\u0018m\u0015gM\u0019xƴ6\u001ae\u0013NGotf97r‿\u0019hJ\u0005\u0002,SN3\u0015,ԻA\u0004qD\u0004\u0006\u0006\u0015\u0018L\u0012T0P\u0014\u0005\u0006\u0015\u0018,T0SM\u0001aޝ6,bq\u00048\u0016kT\u0015M8WMq3AGpy\bX\u0010h,QW1aV\u0015N,Ey,8n\u001aI3Blz\u000eW\u0004E4\u0006Ohaȩ\u0011\u0010C\u0010A\u0018\u000eA\u0000a8\u0004CC9fpTU\u001aQQڮQj,Gv,\u0012e,eJ2\u0002Sڀ\u00126\u0007ؓbAgtWd۠Ȗ芋8h,6mT\u0000,v\u0002独a¼\u0012\u0018e\u0004mkBthRtŒjAѶ0\u0002\u000fR\u0005\u0014,L40߾\u0018y8,C\u0001rY\u0010\u00140\u0010wϒuz\bp\u00101\u0011zOޣLh,2\u0019AĿxWTKvf\u0012\u0003X̭\u0006\u0007H\u0002܃5\u0019BYd6\u0003Z\u000fG\u0014k\u0003\u0007SS,ryf0r,j\u0011,vx\u0004\u00072LQ,Awxd,55\u0004b\u0005TlĚH׊5\u0019eGqJZi\u0003\u0001W\u0018,Ŗ\u0001N\u0011Cȴ042,V\u0005\u001a4K\u001a4J\u001aAo,\u0003SG,\u001aY34fhdzL84dGTLR1Q첖\u0007ŭ\u00122Y拌tEȤ\u0017tVeav\u00162IYsB\u0019\u0006٪\u0019a˛Fk,oxZe9y\u0014wi,eϦy,wvH,؝,Hf\u0014tIz7oRp,zn\u0011i\u0013\u0014Zigڤn͸Kmc,\u0013\u0010P\u000e\u0003zZ\u000eyʎAˎ2n\u000foyTz,Oe\u0006NO\u0011Ur\u0015t83\u001b\u0000dg,Col,RvLl\u0019,\u0002\u0017\u00048\u00104,Y\u0019,v\u0006޶퐕Hf\u00162,i\b\u0016\u0002l,1N\u0018m\u0003o\u00162,m\u0001kz7B,n\u0016\u0002\u0000Bm\u0006o\u00162,m\u0003o\u0016wm,\u0019xB\u0006޶\u0006gm\u0000i\bp8\u0016b,m\u0003o\u00162,mAz7B,\u0004,\u0001N\u0018B,\u0019xB\u0006޶Hf\u00162𶅌ΞZ\u0011\u00120qE8EV\u0015k6MY\u0004,wZg\u0016ʣ\u0004EBPysSKVyÜ\u0005\u001bǽML,\u0002L,\u0016ǝr3,\u0007bc\u0018MԝNĒs\bo,9p7Rv,\u001ba3w\u000eҍ1bXկ\u00003\u001bSBɬ,kgG\u0016ю警,mg9\u000eVm\b\u00108,P,\u0015GXV,Њ\u000f\u0018\b7\u0001g8d9\u000e8\u0010V,Њ\u000f\u0001C8\u0001\u0015\b\u0010V,\u0014\u0007\u0001C8C\u0004Zq\u000e\u0011n\u0003\u0000qT,\b\u001aFJdH,\u001b«Frp,dUScxT1\u0002WWBWvőU\u0003l\u0018,\u0019v,YWëNőqdxզ82jS,\u0014GWVőUSqx5󪀛飳ׄ\u0017O3oc,o,\u0007\u0016,EQAթO\u0003KάzV֣I,kmgYwNvZF,DKO\u0014wu\u0016a4,hƺzXY6G0g286ˬyrxvDaGw,4znhcgWC\u000eorlnr,\u00058\u000eecZ\u00187lPfaHsgh\bnÓэ0o4sczY\u0002XAVnK,PK\u0003\u0004\u0014\u0000\u0000\u0000\b\u0000NO\u0017\b\u0000\u0000,\u001a\u0000\u0000\u0012\u0000,\u0000worddocument2xml,\u0018\u0000\u0014\u0000\u0000\u0000\u0000\u0000\u0000\u0000\u0000\u0000\u0000\u0000\u0000\u0000\u0000\u0000\u0000\u0000\u0000\u0000\u0000\u0000Yr6\u001a\u0015TƩTS؉\u000fOBh\u0012\u0001n,KJd˗\u000f\u0012IOy\u000eXmg,vPJnbina߿yuTB9\u0006\u0002,趓W,\u00066JEmVv2\u00126,at\u00055W\u0007n\u001515\b͝69w4,f\u0016PIw\u0002Q7\u0015\u0010,\u0002Uy\u000epeSYs,\u0018A\u0006lVʹr\u000eyi0\u0007\u001bÏx\u0004,Y\bhnGK9eE93hy\u0004\u000f,\u0014˜eR\u001bZϠU952aS\u0000ytQm\u00062\u00063,\u000eeO\u0006p\u0019דr٩,؈,3w3\u0014mgX7Kϸ3qN\u0000\u0003n,\u0006o\u000f\u0010j̍\u0004\u000fU4BbqZgKplXNgm\u0011\u0019kɭD3uKbdMֻZWfim,fPצ\u0014robBFQeb\u00035\bOҦrX9zv2ϊq5,fix9M,5R\u0004AQI3Fq,KA\u0010BDgىDLo,\u0010GO,V\u001bADIBâ\u0002jFE9\u00002h42J\u0007YFI\u0011ރ5s\u001bz,\u0016pڅ\u00147i2GЕ\u0013Q\u0007D\u001a,mNڠmho,8\u0019j\u0015\u000e4fuͱRxwrrwO\u0011\u0015OY\u0019\u0015\u0000,\u00102p\u0019Z\u000f\u0000xv\u0012,JuaKpNͭlVEօ\u00039Z73¦23\u0012vX4ěC\u00079\u0019\u0002RLd,dzУrX\u0007FVp5LOf,W\u0015FhA\u0019\u0019z1,I9h묓k\u0004diŮ\u0004ǚKi\u0011Vp\u0013\u0016mO\u0001Ƿl\u0011\u0003t\u0012\u0011EF\u0003,VzzC\u0016\bǓ\u0004Gһ7V\u0015j\u000fĭFY\u001aܿ\u0005rĭ,iEUD\u0007eE8\u000e\u0004IlDxbI0ke\u00144\u0000X٫wFg\u0002\u0006i\u0015ZcPt\u0014a\b,Ȥ8ߞa,Q9l\u0006lZO\u0000K\u0010Ƌw,M0\u0002PfW\u001a,֙2rA\u0004d,2\u001b,\u0018\u001aEI\u0011OQq\u00030U\u0004TL3,KK߽\u0013SU\bjg\u0012MpɣE\u0004q0,T,3\u0004x\u0003n\u0005,T\u0015OXiح0SA\u0015\u0002g2,\u001885VKgVom,\u0005\u0012M\u0015a5sj\u0018\bՙNNhv0C\u0003N,l\u0000t8,0goG\u0019e\u001a793H\u0015Tu2T\bTi\u0003hT,FN3Cg6ƪ\u000f,a1o\u0006jdngvk2\u0002fDVh,\u0000GyP3,5A1vc,8AlހuNUh,uHZz\u0011\b\bt\b4WMI2\u0016\u0018VZ,G\u000fFO\u0011\u0018\u0018ìyoOh\u0016TOqgZ\u00109daJTK0NL,\u00114,S\b,7h\bW,vr\u001a0˸,a戶\u000e,\u0018,m\u0007r,tpuV\u0013Tp\u0014ڝ5\u0011mQ,\u001aT\u0010sΛ\u0001PK\u0003\u0004\u0014\u0000\u0000\u0000\b\u0000Nz\u0007\u0001\u0000\u0000,\u0000wordrelsdocument2xmlrels,\u0018\u0000\u0014\u0000\u0000\u0000\u0000\u0000\u0000\u0000\u0000\u0000\u0000\u0000\u0000\u0000\u0000\u0000\u0000\u0000\u0000\u0000\u0000\u0000N0\u0018Wizt\u00074۴l,\u000e,n,\u0010גWp\u0019\u0001T\u0016˛\u00175,\u001bV֓pDֈ1j踏\u0005,ǰt\u00154\u00026\u0019s,lESJ\u0011\u000e4,l\u00011\u0005w\u0015N8yB̩Jh,\u0007LFࡅKGPc0߈,wcRJs\u001a,1uVr\u0005,THq,0nOȠy8Ϳ4tx,\u0014Ҭ\u0004\u001bЋOPK\u0001\u0002\u0000\u0014\u0000\u0006\u0000\b\u0000\u0002N\u0004TM\u0001\u0000\u0000\u001b\u0005\u0000\u0000\u0013\u0000\u0000\u0000\u0000\u0000\u0000\u0000\u0000\u0000\u0000\u0000\u0000\u0000\u0000\u0000\u0000\u0000ContentTypesxmlPK\u0001\u0002\u0000\u0014\u0000\u0006\u0000\b\u0000\u0002N\u0000\u0000\u0000C\u0002\u0000\u0000,\u0000\u0000\u0000\u0000\u0000\u0000\u0000\u0000\u0000\u0000\u0000\u0000\u0000\u0003\u0000\u0000relsrelsPK\u0001\u0002\u0000\u0014\u0000\u0006\u0000\b\u00005LEŀ\u0006\u0000\u0000\u0000\u0000\u0015\u0000\u0000\u0000\u0000\u0000\u0000\u0000\u0000\u0000\u0000\u0000\u0000\u0000\u0006\u0000\u0000wordthemetheme1xmlPK\u0001\u0002\u0000\u0014\u0000\u0006\u0000\b\u0000NUS\u0003\u0000\u0000,\u0000\u0000\u0011\u0000\u0000\u0000\u0000\u0000\u0000\u0000\u0000\u0000\u0000\u0000\u0000\u0000L,\u0000\u0000wordsettingsxmlPK\u0001\u0002\u0000\u0014\u0000\u0006\u0000\b\u0000\u0002N\u0013\u0001\u0000\u0000\u0004\u0000\u0000\u0012\u0000\u0000\u0000\u0000\u0000\u0000\u0000\u0000\u0000\u0000\u0000\u0000\u0000\u0007\u0011\u0000\u0000wordfontTablexmlPK\u0001\u0002\u0000\u0014\u0000\u0006\u0000\b\u0000\u0000\u0000\u0000m,\u0001\u0000\u0000\u0001\u0000\u0000\u0014\u0000\u0000\u0000\u0000\u0000\u0000\u0000\u0000\u0000\u0000\u0000\u0000\u0000\u0012\u0000\u0000wordwebSettingsxmlPK\u0001\u0002\u0000\u0014\u0000\u0006\u0000\b\u0000NK5\u0001\u0000\u0000\u0002\u0000\u0000\u0010\u0000\u0000\u0000\u0000\u0000\u0000\u0000\u0000\u0000\u0000\u0000\u0000\u0000\u0014\u0000\u0000docPropsappxmlPK\u0001\u0002\u0000\u0014\u0000\u0006\u0000\b\u0000NHL\u0001\u0000\u0000h\u0002\u0000\u0000\u0011\u0000\u0000\u0000\u0000\u0000\u0000\u0000\u0000\u0000\u0000\u0000\u0000\u0000\u0016\u0000\u0000docPropscorexmlPK\u0001\u0002\u0000\u0014\u0000\u0006\u0000\b\u0000NJK,\u0000\u00004u\u0000\u0000\u000f\u0000\u0000\u0000\u0000\u0000\u0000\u0000\u0000\u0000\u0000\u0000\u0000\u0000\u0019\u0000\u0000wordstylesxmlPK\u0001\u0002\u0000\u0014\u0000\u0000\u0000\b\u0000NO\u0017\b\u0000\u0000,\u001a\u0000\u0000\u0012\u0000\u0000\u0000\u0000\u0000\u0000\u0000\u0000\u0000\u0000\u0000\u0000\u0000\u0000\u0000worddocument2xmlPK\u0001\u0002\u0000\u0014\u0000\u0000\u0000\b\u0000Nz\u0007\u0001\u0000\u0000,\u0000\u0000\u0000\u0000\u0000\u0000\u0000\u0000\u0000\u0000\u0000\u0000\u0000\u0017\u0000\u0000wordrelsdocument2xmlrelsPK\u0005\u0006\u0000\u0000\u0000\u0000,\u0000\u0002\u0000\u0000\u0000\u0000\u0000\u0000\n",
            "[nltk_data] Downloading package punkt to /root/nltk_data...\n",
            "[nltk_data]   Package punkt is already up-to-date!\n",
            "[nltk_data] Downloading package stopwords to /root/nltk_data...\n",
            "[nltk_data]   Package stopwords is already up-to-date!\n"
          ]
        }
      ]
    },
    {
      "cell_type": "code",
      "source": [
        "with open('file_{0}.dat','w') as f:\n",
        "       f.write(\" \".join(str(x) for x in finalliststr1))\n",
        "       f.write(\" \".join(str(x) for x in finalliststr2))"
      ],
      "metadata": {
        "id": "0own6TA2xItn"
      },
      "execution_count": 91,
      "outputs": []
    },
    {
      "cell_type": "code",
      "source": [
        "for i in range(2):\n",
        "   with open('file_{0}.dat'.format(i),'w') as f:\n",
        "       f.write(\" \".join(str(x) for x in finalliststr1))\n",
        "       f.write(\" \".join(str(x) for x in finalliststr2))"
      ],
      "metadata": {
        "id": "ZUFnlRRRpXN7"
      },
      "execution_count": 52,
      "outputs": []
    }
  ]
}