{
  "nbformat": 4,
  "nbformat_minor": 0,
  "metadata": {
    "colab": {
      "name": "Assignment06_601.ipynb",
      "provenance": [],
      "authorship_tag": "ABX9TyO16G0S++vtgKKqIKvB3OyX",
      "include_colab_link": true
    },
    "kernelspec": {
      "name": "python3",
      "display_name": "Python 3"
    },
    "language_info": {
      "name": "python"
    }
  },
  "cells": [
    {
      "cell_type": "markdown",
      "metadata": {
        "id": "view-in-github",
        "colab_type": "text"
      },
      "source": [
        "<a href=\"https://colab.research.google.com/github/akukudala/Data_601/blob/main/Assignment06/Assignment06_601.ipynb\" target=\"_parent\"><img src=\"https://colab.research.google.com/assets/colab-badge.svg\" alt=\"Open In Colab\"/></a>"
      ]
    },
    {
      "cell_type": "code",
      "execution_count": 18,
      "metadata": {
        "colab": {
          "base_uri": "https://localhost:8080/"
        },
        "id": "5OfM0MFfDzRN",
        "outputId": "d4d1f0d0-6607-4f68-c7f9-d97d1f9f4e84"
      },
      "outputs": [
        {
          "output_type": "stream",
          "name": "stdout",
          "text": [
            "Requirement already satisfied: openpyxl in /usr/local/lib/python3.7/dist-packages (3.0.9)\n",
            "Requirement already satisfied: et-xmlfile in /usr/local/lib/python3.7/dist-packages (from openpyxl) (1.1.0)\n"
          ]
        }
      ],
      "source": [
        "!pip install openpyxl"
      ]
    },
    {
      "cell_type": "code",
      "source": [
        "\n",
        "import openpyxl as pyxl\n",
        "from openpyxl import load_workbook\n",
        "\n",
        "writewb = load_workbook(filename=\"week_05_homework_XLSX_openpyxl (1).xlsx\")\n",
        "writewbs1 = writewb.worksheets[0]\n",
        "writewbs2 = writewb.worksheets[1]\n",
        "readwb = load_workbook(filename=\"week_05_homework_XLSX_openpyxl (1).xlsx\",data_only=True)\n",
        "readwbs1 = readwb.worksheets[0]\n",
        "readwbs2 = readwb.worksheets[1]\n",
        "mr = readwbs1.max_row\n",
        "mc = readwbs1.max_column\n",
        "mr2 = readwbs2.max_row\n",
        "mc2 = readwbs2.max_column\n",
        "main_patient_ids=[]            # List 1                       \n",
        "for i in range(2, mr+1):\n",
        "    main_patient_ids.append(writewbs1.cell(row=i,column=1).value)\n",
        "another_p_ids=[]                 # List 2           \n",
        "for i in range(2,mr2+1):\n",
        "    another_p_ids.append(writewbs2.cell(row=i, column=1).value)\n",
        "for i in range(2, mr2+1):\n",
        "    if(writewbs2.cell(row=i,column=1).value not in main_patient_ids):\n",
        "        mr=mr+1\n",
        "        for j in range(2,mc2+1):\n",
        "            writewbs1.cell(row=mr, column=mc).value=writewbs2.cell(row=i,column=j).value\n",
        "for x in range(2, mr+1):\n",
        "    if(writewbs1.cell(row=x,column=1).value in another_p_ids):\n",
        "        t=another_p_ids.index(writewbs1.cell(row=x,column=1).value)+2\n",
        "        c=0\n",
        "        for y in range (mc+1,mc+1+mr2):\n",
        "            c=c+1\n",
        "            writewbs1.cell(row=x,column=y).value=writewbs2.cell(row=t,column=c).value\n",
        "for i in range(1,mc2+1):    \n",
        "    header=i+mc\n",
        "    writewbs1.cell(row=1,column=header).value=writewbs2.cell(row=1,column=i).value\n",
        "writewb.save(\"OutputFile2.xlsx\")\n"
      ],
      "metadata": {
        "id": "tgp1_VfLlmaJ"
      },
      "execution_count": 17,
      "outputs": []
    }
  ]
}