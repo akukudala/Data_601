{
  "nbformat": 4,
  "nbformat_minor": 0,
  "metadata": {
    "colab": {
      "name": "Assignment06_601.ipynb",
      "provenance": [],
      "authorship_tag": "ABX9TyO8mUfGyAdQ738rokiJGQFE",
      "include_colab_link": true
    },
    "kernelspec": {
      "name": "python3",
      "display_name": "Python 3"
    },
    "language_info": {
      "name": "python"
    }
  },
  "cells": [
    {
      "cell_type": "markdown",
      "metadata": {
        "id": "view-in-github",
        "colab_type": "text"
      },
      "source": [
        "<a href=\"https://colab.research.google.com/github/akukudala/Data_601/blob/main/Assignment06/Assignment06_601.ipynb\" target=\"_parent\"><img src=\"https://colab.research.google.com/assets/colab-badge.svg\" alt=\"Open In Colab\"/></a>"
      ]
    },
    {
      "cell_type": "code",
      "execution_count": null,
      "metadata": {
        "colab": {
          "base_uri": "https://localhost:8080/"
        },
        "id": "5OfM0MFfDzRN",
        "outputId": "28a78810-cea5-405a-fe11-6ba386b1cc55"
      },
      "outputs": [
        {
          "output_type": "stream",
          "name": "stdout",
          "text": [
            "Requirement already satisfied: openpyxl in /usr/local/lib/python3.7/dist-packages (3.0.9)\n",
            "Requirement already satisfied: et-xmlfile in /usr/local/lib/python3.7/dist-packages (from openpyxl) (1.1.0)\n"
          ]
        }
      ],
      "source": [
        "!pip install openpyxl"
      ]
    },
    {
      "cell_type": "code",
      "source": [
        "import openpyxl as pyxl\n",
        "from openpyxl import load_workbook\n",
        "\n",
        "writewb = load_workbook(filename=\"test.xlsx\")\n",
        "writewbs1 = writewb.worksheets[0]\n",
        "writewbs2 = writewb.worksheets[1]\n",
        "readwb = load_workbook(filename=\"test.xlsx\",data_only=True)\n",
        "readwbs1 = readwb.worksheets[0]\n",
        "readwbs2 = readwb.worksheets[1]\n"
      ],
      "metadata": {
        "id": "uUq_iIABGx9K"
      },
      "execution_count": null,
      "outputs": []
    },
    {
      "cell_type": "code",
      "source": [
        ""
      ],
      "metadata": {
        "id": "pjGWqzxDZzr9"
      },
      "execution_count": null,
      "outputs": []
    },
    {
      "cell_type": "code",
      "source": [
        " \n",
        "# calculate total number of rows and \n",
        "# columns in source excel file\n",
        "mr = readwbs1.max_row\n",
        "mc = readwbs1.max_column\n",
        "mr2 = readwbs2.max_row\n",
        "mc2 = readwbs2.max_column\n",
        "  \n",
        "# copying the cell values from source \n",
        "# excel file to destination excel file\n",
        "for i in range (1, mr2 + 1):\n",
        "    for j in range (1, mc2 + 1):\n",
        "        # reading cell value from source excel file\n",
        "        c = readwbs2.cell(row = i, column = j)\n",
        "\n",
        "  \n",
        "        # writing the read value to destination excel file\n",
        "        writewbs1.cell(row = i, column = j+mc).value = c.value\n",
        "  \n",
        "# saving the destination excel file\n",
        "writewb.save(str(\"test2.xlsx\"))"
      ],
      "metadata": {
        "id": "ramM_SWMH9zD"
      },
      "execution_count": null,
      "outputs": []
    },
    {
      "cell_type": "code",
      "source": [
        "# calculate total number of rows and \n",
        "# columns in source excel file\n",
        "mr = readwbs1.max_row\n",
        "mc = readwbs1.max_column\n",
        "mr2 = readwbs2.max_row\n",
        "mc2 = readwbs2.max_column\n",
        "  \n",
        "# copying the cell values from source \n",
        "# excel file to destination excel file\n",
        "for i in range (1, mr2 + 1):\n",
        "    for j in range (1, mc2 + 1):\n",
        "        # reading cell value from source excel file\n",
        "        c = readwbs2.cell(row = i, column = j)\n",
        "        for row in writewbs1['A2:A25']:\n",
        "            for cell in row:\n",
        "                if cell.value == \"ABC\":\n",
        "                 cell.value = \"=VLOOKUP(A{0}, 'main'!A:A, 1, FALSE)\".format(cell.row)\n",
        "  for row in ws.iter_rows(\"E\"):\n",
        "    for cell in row:\n",
        "        if cell.value == \"ABC\":\n",
        "            print(ws.cell(row=cell.row, column=2).value)\n",
        "        # writing the read value to destination excel file\n",
        "        # writewbs1.cell(row = i, column = j+mc).value = c.value\n",
        "  \n",
        "# saving the destination excel file\n",
        "writewb.save(str(\"test2.xlsx\"))\n"
      ],
      "metadata": {
        "id": "LOvJP2uRhRb0"
      },
      "execution_count": null,
      "outputs": []
    },
    {
      "cell_type": "code",
      "source": [
        "import openpyxl\n",
        "\n",
        "# file 1:\n",
        "path = \"C:\\\\Users\\\\Admin\\\\Desktop\\\\TEST.xlsx\"\n",
        "wb_1 = openpyxl.load_workbook(path, read_only=True)\n",
        "ws_1 = wb_1[wb_1.sheetnames[0]]\n",
        "\n",
        "# file 2 (it's a new file):\n",
        "wb_2 = openpyxl.Workbook()\n",
        "ws_2 = wb_2.active\n",
        "ws_2.title = \"SHEET\"\n",
        "\n",
        "# copy the rows placed in file 1 into the file 2:\n",
        "def GetList(row):\n",
        "    list_for_row_values = []\n",
        "    for cell in row:\n",
        "        list_for_row_values.append(cell.value)\n",
        "    return list_for_row_values\n",
        "\n",
        "for row in ws_1.rows:\n",
        "    list_for_row_values = GetList(row)\n",
        "    ws_2.append(list_for_row_values)\n",
        "\n",
        "wb_2.save(\"C:\\\\Users\\\\Admin\\\\Desktop\\\\result.xlsx\")"
      ],
      "metadata": {
        "id": "VhstWX03ZTub"
      },
      "execution_count": null,
      "outputs": []
    }
  ]
}