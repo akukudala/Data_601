{
  "nbformat": 4,
  "nbformat_minor": 0,
  "metadata": {
    "colab": {
      "name": "Assignment03_601_csvoutput.ipynb",
      "provenance": [],
      "authorship_tag": "ABX9TyOPDETiaOb6OHXVvRaRTGYq",
      "include_colab_link": true
    },
    "kernelspec": {
      "name": "python3",
      "display_name": "Python 3"
    },
    "language_info": {
      "name": "python"
    }
  },
  "cells": [
    {
      "cell_type": "markdown",
      "metadata": {
        "id": "view-in-github",
        "colab_type": "text"
      },
      "source": [
        "<a href=\"https://colab.research.google.com/github/akukudala/Data_601/blob/main/Assignment03/Assignment03_601_csvoutput.ipynb\" target=\"_parent\"><img src=\"https://colab.research.google.com/assets/colab-badge.svg\" alt=\"Open In Colab\"/></a>"
      ]
    },
    {
      "cell_type": "markdown",
      "source": [
        "## Assignment 03\n",
        "* Name: Akshitha Kukudala\n",
        "* Date: 3/1/2022"
      ],
      "metadata": {
        "id": "lhje52qYRpDm"
      }
    },
    {
      "cell_type": "code",
      "source": [
        "pip install Faker"
      ],
      "metadata": {
        "colab": {
          "base_uri": "https://localhost:8080/"
        },
        "id": "OFZFt5MRR9kg",
        "outputId": "cd60a76c-2017-4213-9037-5b76862aea9e"
      },
      "execution_count": 36,
      "outputs": [
        {
          "output_type": "stream",
          "name": "stdout",
          "text": [
            "Requirement already satisfied: Faker in /usr/local/lib/python3.7/dist-packages (13.3.0)\n",
            "Requirement already satisfied: python-dateutil>=2.4 in /usr/local/lib/python3.7/dist-packages (from Faker) (2.8.2)\n",
            "Requirement already satisfied: typing-extensions>=3.10.0.2 in /usr/local/lib/python3.7/dist-packages (from Faker) (3.10.0.2)\n",
            "Requirement already satisfied: six>=1.5 in /usr/local/lib/python3.7/dist-packages (from python-dateutil>=2.4->Faker) (1.15.0)\n"
          ]
        }
      ]
    },
    {
      "cell_type": "code",
      "source": [
        "def mainfunc():\n",
        "    try:\n",
        "      intval = int(input(\"Enter the no. of rows to be generated in a file?   \"))\n",
        "      print(\"\", intval)\n",
        "    except ValueError:\n",
        "      print(\"Only integer values are accepted\")\n",
        "    return intval\n",
        "n= mainfunc()"
      ],
      "metadata": {
        "colab": {
          "base_uri": "https://localhost:8080/"
        },
        "id": "LlmWyEVXV0Bd",
        "outputId": "6767dce2-d938-4c5b-fdcc-ce8788060367"
      },
      "execution_count": 37,
      "outputs": [
        {
          "output_type": "stream",
          "name": "stdout",
          "text": [
            "Enter the no. of rows to be generated in a file?   10\n",
            " 10\n"
          ]
        }
      ]
    },
    {
      "cell_type": "code",
      "source": [
        "from faker import Faker\n",
        "fake = Faker()\n",
        "\n",
        "email_list=[]\n",
        "\n",
        "for val in range(0,n):\n",
        "    val = fake.email()\n",
        "    email_list.append(val)\n",
        "print(email_list)"
      ],
      "metadata": {
        "colab": {
          "base_uri": "https://localhost:8080/"
        },
        "id": "QVT_X_Q6XzlX",
        "outputId": "28b53e99-fb7c-4c28-f7a8-22f3da32dedc"
      },
      "execution_count": 38,
      "outputs": [
        {
          "output_type": "stream",
          "name": "stdout",
          "text": [
            "['lovenicole@example.com', 'amandafranklin@example.net', 'gwendolynyoung@example.org', 'samantha21@example.net', 'karenwilliams@example.net', 'tkirby@example.com', 'weaveranita@example.org', 'gamblerichard@example.org', 'rogercabrera@example.net', 'ewhite@example.com']\n"
          ]
        }
      ]
    },
    {
      "cell_type": "code",
      "source": [
        "import random\n",
        "\n",
        "phn_list=[]\n",
        "\n",
        "for val in range(0,n):\n",
        "    val = random.randint(811,999)\n",
        "    val2 = random.randint(111,199)\n",
        "    val3 = random.randint(1000,9999)\n",
        "    phn_list.append(\"(\"+str(val)+\") \"+str(val2)+\"-\"+str(val3))\n",
        "print(phn_list)"
      ],
      "metadata": {
        "colab": {
          "base_uri": "https://localhost:8080/"
        },
        "id": "h6Vn8g9WX_J3",
        "outputId": "6008d837-71c3-4449-f7c9-8550bf440d06"
      },
      "execution_count": 39,
      "outputs": [
        {
          "output_type": "stream",
          "name": "stdout",
          "text": [
            "['(976) 131-1172', '(938) 138-8205', '(886) 177-6978', '(828) 145-5983', '(868) 182-2377', '(904) 183-1508', '(865) 114-4638', '(962) 112-8122', '(862) 140-7256', '(957) 164-2326']\n"
          ]
        }
      ]
    },
    {
      "cell_type": "code",
      "source": [
        "address_list=[]\n",
        "\n",
        "for val in range(0,n):\n",
        "    val = fake.address()\n",
        "    val = val.replace(\"\\n\",\" \")\n",
        "    val = val.replace(\",\",\" \")\n",
        "    address_list.append(val)\n",
        "print(address_list)"
      ],
      "metadata": {
        "colab": {
          "base_uri": "https://localhost:8080/"
        },
        "id": "_y9R8OJfYCJn",
        "outputId": "a9b9b374-cd75-4fd8-e911-a7318c97ab9b"
      },
      "execution_count": 40,
      "outputs": [
        {
          "output_type": "stream",
          "name": "stdout",
          "text": [
            "['865 Martin Park Apt. 517 Katherineton  WI 64615', '9095 Christopher Rapids Lake Kimberlyfort  NE 16586', '273 Newman Track Suite 820 South Ronaldburgh  CO 07326', '9348 Reed Camp Apt. 877 Mariastad  AZ 85295', '999 Torres Vista Apt. 656 Millerchester  ND 31940', '342 Anna Lodge Suite 930 New Kirktown  MO 00668', '51517 Carl Fords West Hunterbury  NE 95513', '5316 Madison Radial Cooperton  KS 78173', '902 Wilson Extension Apt. 872 New Alexis  AK 56002', '2008 Travis Square Suite 978 South Jessicaton  OR 02921']\n"
          ]
        }
      ]
    },
    {
      "cell_type": "code",
      "source": [
        "name_list=[]\n",
        "\n",
        "for val in range(0,n):\n",
        "    val = fake.name()\n",
        "    name_list.append(val)\n",
        "print(name_list)"
      ],
      "metadata": {
        "colab": {
          "base_uri": "https://localhost:8080/"
        },
        "id": "U8_jMyDrYEkv",
        "outputId": "455f60e7-2fac-458b-f892-e9688de6beed"
      },
      "execution_count": 41,
      "outputs": [
        {
          "output_type": "stream",
          "name": "stdout",
          "text": [
            "['Thomas Bauer', 'Andrea Gaines', 'Bruce Ruiz', 'Amanda White', 'Amanda Perez', 'Patricia Shannon', 'Justin Lee', 'Sonya Hall', 'Brandon Johnson', 'Allison Tucker']\n"
          ]
        }
      ]
    },
    {
      "cell_type": "code",
      "source": [
        "year_list=[]\n",
        "\n",
        "for val in range(0,n):\n",
        "    val = random.randint(1950, 1990)\n",
        "    \n",
        "    year_list.append(val)\n",
        "print(year_list)"
      ],
      "metadata": {
        "colab": {
          "base_uri": "https://localhost:8080/"
        },
        "id": "PHIbadzjYG63",
        "outputId": "0464e547-f1d3-4bb5-ec5b-b8bbc5844174"
      },
      "execution_count": 42,
      "outputs": [
        {
          "output_type": "stream",
          "name": "stdout",
          "text": [
            "[1970, 1960, 1953, 1954, 1968, 1983, 1977, 1979, 1986, 1977]\n"
          ]
        }
      ]
    },
    {
      "cell_type": "code",
      "source": [
        "import re\n",
        "nkids_list=[]\n",
        "\n",
        "for val in range(0,n):\n",
        "    val = random.randint(0, 4)\n",
        "    \n",
        "    nkids_list.append(val)\n",
        "print(nkids_list)"
      ],
      "metadata": {
        "colab": {
          "base_uri": "https://localhost:8080/"
        },
        "id": "9xkJszIRYJtQ",
        "outputId": "88c55c5a-bafb-4783-eb83-b2f5e2ea4d4a"
      },
      "execution_count": 43,
      "outputs": [
        {
          "output_type": "stream",
          "name": "stdout",
          "text": [
            "[1, 4, 4, 0, 0, 0, 2, 0, 1, 2]\n"
          ]
        }
      ]
    },
    {
      "cell_type": "code",
      "source": [
        "rent_options=['RENT','OWN']\n",
        "rent_list=[]\n",
        "\n",
        "for val in range(0,n):\n",
        "    val = random.choice(rent_options)\n",
        "    rent_list.append(val)\n",
        "print(rent_list)"
      ],
      "metadata": {
        "colab": {
          "base_uri": "https://localhost:8080/"
        },
        "id": "IJBC_eOSYOE3",
        "outputId": "ba7ec6df-43bf-4b3c-88e2-3e8e6c1cc415"
      },
      "execution_count": 44,
      "outputs": [
        {
          "output_type": "stream",
          "name": "stdout",
          "text": [
            "['RENT', 'RENT', 'OWN', 'OWN', 'RENT', 'OWN', 'RENT', 'OWN', 'RENT', 'RENT']\n"
          ]
        }
      ]
    },
    {
      "cell_type": "code",
      "source": [
        "income_list=[]\n",
        "\n",
        "for val in range(0,n):\n",
        "    strline = random.randint(701999, 3606999)\n",
        "    \n",
        "    income_list.append(\"$\"+str(strline))\n",
        "print(income_list)"
      ],
      "metadata": {
        "colab": {
          "base_uri": "https://localhost:8080/"
        },
        "id": "I76EY-v5YQpQ",
        "outputId": "7584a002-5bf2-4b3b-f43e-6e72ac1221cf"
      },
      "execution_count": 45,
      "outputs": [
        {
          "output_type": "stream",
          "name": "stdout",
          "text": [
            "['$1669440', '$779131', '$2244872', '$3038251', '$2200112', '$1065202', '$771023', '$919228', '$991306', '$1091208']\n"
          ]
        }
      ]
    },
    {
      "cell_type": "code",
      "source": [
        "sptickets_list=[]\n",
        "\n",
        "for line in range(0,n):\n",
        "    strline = random.randint(0, 9)\n",
        "    \n",
        "    sptickets_list.append(strline)\n",
        "print(sptickets_list)"
      ],
      "metadata": {
        "colab": {
          "base_uri": "https://localhost:8080/"
        },
        "id": "ROzDm3BRYTEy",
        "outputId": "f71c0967-46ab-477a-a9ac-e5830afa87e5"
      },
      "execution_count": 46,
      "outputs": [
        {
          "output_type": "stream",
          "name": "stdout",
          "text": [
            "[3, 8, 0, 2, 4, 2, 3, 3, 3, 9]\n"
          ]
        }
      ]
    },
    {
      "cell_type": "code",
      "source": [
        "top2_list=[\"Email address\",\"Phone Number\",\"Home Address\",\"Person's Name\",\"Year born\",\"Number of kids\",\"rent/own\",\"Annual Income\",\"Speeding Tickets\"]"
      ],
      "metadata": {
        "id": "CibsllRlYxcg"
      },
      "execution_count": 47,
      "outputs": []
    },
    {
      "cell_type": "code",
      "source": [
        "with open(\"outputformatc1.csv\",'w') as cleansed_file:\n",
        "    for i in top2_list:\n",
        "        cleansed_file.write(f\"{i},\")\n",
        "        \n",
        "    cleansed_file.write(f\"\\n\")\n",
        "    for j in range(n):\n",
        "        cleansed_file.write(f\"{email_list[j]},{phn_list[j]},{address_list[j]},{name_list[j]},{year_list[j]},{nkids_list[j]},{rent_list[j]},{income_list[j]},{sptickets_list[j]}\\n\")"
      ],
      "metadata": {
        "id": "SyLPn8saYzmn"
      },
      "execution_count": 49,
      "outputs": []
    }
  ]
}