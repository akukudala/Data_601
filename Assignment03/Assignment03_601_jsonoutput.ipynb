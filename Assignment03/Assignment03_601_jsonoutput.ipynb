{
  "nbformat": 4,
  "nbformat_minor": 0,
  "metadata": {
    "colab": {
      "name": "Assignment03_601_jsonoutput.ipynb",
      "provenance": [],
      "authorship_tag": "ABX9TyMCHz85HOYodKJp3vSyJJi4",
      "include_colab_link": true
    },
    "kernelspec": {
      "name": "python3",
      "display_name": "Python 3"
    },
    "language_info": {
      "name": "python"
    }
  },
  "cells": [
    {
      "cell_type": "markdown",
      "metadata": {
        "id": "view-in-github",
        "colab_type": "text"
      },
      "source": [
        "<a href=\"https://colab.research.google.com/github/akukudala/Data_601/blob/main/Assignment03/Assignment03_601_jsonoutput.ipynb\" target=\"_parent\"><img src=\"https://colab.research.google.com/assets/colab-badge.svg\" alt=\"Open In Colab\"/></a>"
      ]
    },
    {
      "cell_type": "code",
      "execution_count": 1,
      "metadata": {
        "colab": {
          "base_uri": "https://localhost:8080/"
        },
        "id": "4AzcJhaxWaeq",
        "outputId": "71d1dece-22b0-4909-e939-1572ce95e0f5"
      },
      "outputs": [
        {
          "output_type": "stream",
          "name": "stdout",
          "text": [
            "Collecting Faker\n",
            "  Downloading Faker-13.3.0-py3-none-any.whl (1.5 MB)\n",
            "\u001b[?25l\r\u001b[K     |▏                               | 10 kB 20.0 MB/s eta 0:00:01\r\u001b[K     |▍                               | 20 kB 11.6 MB/s eta 0:00:01\r\u001b[K     |▋                               | 30 kB 9.4 MB/s eta 0:00:01\r\u001b[K     |▉                               | 40 kB 4.4 MB/s eta 0:00:01\r\u001b[K     |█                               | 51 kB 4.4 MB/s eta 0:00:01\r\u001b[K     |█▎                              | 61 kB 5.1 MB/s eta 0:00:01\r\u001b[K     |█▌                              | 71 kB 5.3 MB/s eta 0:00:01\r\u001b[K     |█▊                              | 81 kB 5.3 MB/s eta 0:00:01\r\u001b[K     |██                              | 92 kB 5.9 MB/s eta 0:00:01\r\u001b[K     |██▏                             | 102 kB 5.2 MB/s eta 0:00:01\r\u001b[K     |██▍                             | 112 kB 5.2 MB/s eta 0:00:01\r\u001b[K     |██▋                             | 122 kB 5.2 MB/s eta 0:00:01\r\u001b[K     |██▉                             | 133 kB 5.2 MB/s eta 0:00:01\r\u001b[K     |███                             | 143 kB 5.2 MB/s eta 0:00:01\r\u001b[K     |███▎                            | 153 kB 5.2 MB/s eta 0:00:01\r\u001b[K     |███▌                            | 163 kB 5.2 MB/s eta 0:00:01\r\u001b[K     |███▊                            | 174 kB 5.2 MB/s eta 0:00:01\r\u001b[K     |████                            | 184 kB 5.2 MB/s eta 0:00:01\r\u001b[K     |████▏                           | 194 kB 5.2 MB/s eta 0:00:01\r\u001b[K     |████▍                           | 204 kB 5.2 MB/s eta 0:00:01\r\u001b[K     |████▋                           | 215 kB 5.2 MB/s eta 0:00:01\r\u001b[K     |████▉                           | 225 kB 5.2 MB/s eta 0:00:01\r\u001b[K     |█████                           | 235 kB 5.2 MB/s eta 0:00:01\r\u001b[K     |█████▎                          | 245 kB 5.2 MB/s eta 0:00:01\r\u001b[K     |█████▌                          | 256 kB 5.2 MB/s eta 0:00:01\r\u001b[K     |█████▊                          | 266 kB 5.2 MB/s eta 0:00:01\r\u001b[K     |██████                          | 276 kB 5.2 MB/s eta 0:00:01\r\u001b[K     |██████▏                         | 286 kB 5.2 MB/s eta 0:00:01\r\u001b[K     |██████▍                         | 296 kB 5.2 MB/s eta 0:00:01\r\u001b[K     |██████▋                         | 307 kB 5.2 MB/s eta 0:00:01\r\u001b[K     |██████▉                         | 317 kB 5.2 MB/s eta 0:00:01\r\u001b[K     |███████                         | 327 kB 5.2 MB/s eta 0:00:01\r\u001b[K     |███████▎                        | 337 kB 5.2 MB/s eta 0:00:01\r\u001b[K     |███████▌                        | 348 kB 5.2 MB/s eta 0:00:01\r\u001b[K     |███████▊                        | 358 kB 5.2 MB/s eta 0:00:01\r\u001b[K     |████████                        | 368 kB 5.2 MB/s eta 0:00:01\r\u001b[K     |████████▏                       | 378 kB 5.2 MB/s eta 0:00:01\r\u001b[K     |████████▍                       | 389 kB 5.2 MB/s eta 0:00:01\r\u001b[K     |████████▋                       | 399 kB 5.2 MB/s eta 0:00:01\r\u001b[K     |████████▊                       | 409 kB 5.2 MB/s eta 0:00:01\r\u001b[K     |█████████                       | 419 kB 5.2 MB/s eta 0:00:01\r\u001b[K     |█████████▏                      | 430 kB 5.2 MB/s eta 0:00:01\r\u001b[K     |█████████▍                      | 440 kB 5.2 MB/s eta 0:00:01\r\u001b[K     |█████████▋                      | 450 kB 5.2 MB/s eta 0:00:01\r\u001b[K     |█████████▉                      | 460 kB 5.2 MB/s eta 0:00:01\r\u001b[K     |██████████                      | 471 kB 5.2 MB/s eta 0:00:01\r\u001b[K     |██████████▎                     | 481 kB 5.2 MB/s eta 0:00:01\r\u001b[K     |██████████▌                     | 491 kB 5.2 MB/s eta 0:00:01\r\u001b[K     |██████████▊                     | 501 kB 5.2 MB/s eta 0:00:01\r\u001b[K     |███████████                     | 512 kB 5.2 MB/s eta 0:00:01\r\u001b[K     |███████████▏                    | 522 kB 5.2 MB/s eta 0:00:01\r\u001b[K     |███████████▍                    | 532 kB 5.2 MB/s eta 0:00:01\r\u001b[K     |███████████▋                    | 542 kB 5.2 MB/s eta 0:00:01\r\u001b[K     |███████████▉                    | 552 kB 5.2 MB/s eta 0:00:01\r\u001b[K     |████████████                    | 563 kB 5.2 MB/s eta 0:00:01\r\u001b[K     |████████████▎                   | 573 kB 5.2 MB/s eta 0:00:01\r\u001b[K     |████████████▌                   | 583 kB 5.2 MB/s eta 0:00:01\r\u001b[K     |████████████▊                   | 593 kB 5.2 MB/s eta 0:00:01\r\u001b[K     |█████████████                   | 604 kB 5.2 MB/s eta 0:00:01\r\u001b[K     |█████████████▏                  | 614 kB 5.2 MB/s eta 0:00:01\r\u001b[K     |█████████████▍                  | 624 kB 5.2 MB/s eta 0:00:01\r\u001b[K     |█████████████▋                  | 634 kB 5.2 MB/s eta 0:00:01\r\u001b[K     |█████████████▉                  | 645 kB 5.2 MB/s eta 0:00:01\r\u001b[K     |██████████████                  | 655 kB 5.2 MB/s eta 0:00:01\r\u001b[K     |██████████████▎                 | 665 kB 5.2 MB/s eta 0:00:01\r\u001b[K     |██████████████▌                 | 675 kB 5.2 MB/s eta 0:00:01\r\u001b[K     |██████████████▊                 | 686 kB 5.2 MB/s eta 0:00:01\r\u001b[K     |███████████████                 | 696 kB 5.2 MB/s eta 0:00:01\r\u001b[K     |███████████████▏                | 706 kB 5.2 MB/s eta 0:00:01\r\u001b[K     |███████████████▍                | 716 kB 5.2 MB/s eta 0:00:01\r\u001b[K     |███████████████▋                | 727 kB 5.2 MB/s eta 0:00:01\r\u001b[K     |███████████████▉                | 737 kB 5.2 MB/s eta 0:00:01\r\u001b[K     |████████████████                | 747 kB 5.2 MB/s eta 0:00:01\r\u001b[K     |████████████████▎               | 757 kB 5.2 MB/s eta 0:00:01\r\u001b[K     |████████████████▌               | 768 kB 5.2 MB/s eta 0:00:01\r\u001b[K     |████████████████▊               | 778 kB 5.2 MB/s eta 0:00:01\r\u001b[K     |█████████████████               | 788 kB 5.2 MB/s eta 0:00:01\r\u001b[K     |█████████████████▏              | 798 kB 5.2 MB/s eta 0:00:01\r\u001b[K     |█████████████████▎              | 808 kB 5.2 MB/s eta 0:00:01\r\u001b[K     |█████████████████▌              | 819 kB 5.2 MB/s eta 0:00:01\r\u001b[K     |█████████████████▊              | 829 kB 5.2 MB/s eta 0:00:01\r\u001b[K     |██████████████████              | 839 kB 5.2 MB/s eta 0:00:01\r\u001b[K     |██████████████████▏             | 849 kB 5.2 MB/s eta 0:00:01\r\u001b[K     |██████████████████▍             | 860 kB 5.2 MB/s eta 0:00:01\r\u001b[K     |██████████████████▋             | 870 kB 5.2 MB/s eta 0:00:01\r\u001b[K     |██████████████████▉             | 880 kB 5.2 MB/s eta 0:00:01\r\u001b[K     |███████████████████             | 890 kB 5.2 MB/s eta 0:00:01\r\u001b[K     |███████████████████▎            | 901 kB 5.2 MB/s eta 0:00:01\r\u001b[K     |███████████████████▌            | 911 kB 5.2 MB/s eta 0:00:01\r\u001b[K     |███████████████████▊            | 921 kB 5.2 MB/s eta 0:00:01\r\u001b[K     |████████████████████            | 931 kB 5.2 MB/s eta 0:00:01\r\u001b[K     |████████████████████▏           | 942 kB 5.2 MB/s eta 0:00:01\r\u001b[K     |████████████████████▍           | 952 kB 5.2 MB/s eta 0:00:01\r\u001b[K     |████████████████████▋           | 962 kB 5.2 MB/s eta 0:00:01\r\u001b[K     |████████████████████▉           | 972 kB 5.2 MB/s eta 0:00:01\r\u001b[K     |█████████████████████           | 983 kB 5.2 MB/s eta 0:00:01\r\u001b[K     |█████████████████████▎          | 993 kB 5.2 MB/s eta 0:00:01\r\u001b[K     |█████████████████████▌          | 1.0 MB 5.2 MB/s eta 0:00:01\r\u001b[K     |█████████████████████▊          | 1.0 MB 5.2 MB/s eta 0:00:01\r\u001b[K     |██████████████████████          | 1.0 MB 5.2 MB/s eta 0:00:01\r\u001b[K     |██████████████████████▏         | 1.0 MB 5.2 MB/s eta 0:00:01\r\u001b[K     |██████████████████████▍         | 1.0 MB 5.2 MB/s eta 0:00:01\r\u001b[K     |██████████████████████▋         | 1.1 MB 5.2 MB/s eta 0:00:01\r\u001b[K     |██████████████████████▉         | 1.1 MB 5.2 MB/s eta 0:00:01\r\u001b[K     |███████████████████████         | 1.1 MB 5.2 MB/s eta 0:00:01\r\u001b[K     |███████████████████████▎        | 1.1 MB 5.2 MB/s eta 0:00:01\r\u001b[K     |███████████████████████▌        | 1.1 MB 5.2 MB/s eta 0:00:01\r\u001b[K     |███████████████████████▊        | 1.1 MB 5.2 MB/s eta 0:00:01\r\u001b[K     |████████████████████████        | 1.1 MB 5.2 MB/s eta 0:00:01\r\u001b[K     |████████████████████████▏       | 1.1 MB 5.2 MB/s eta 0:00:01\r\u001b[K     |████████████████████████▍       | 1.1 MB 5.2 MB/s eta 0:00:01\r\u001b[K     |████████████████████████▋       | 1.1 MB 5.2 MB/s eta 0:00:01\r\u001b[K     |████████████████████████▉       | 1.2 MB 5.2 MB/s eta 0:00:01\r\u001b[K     |█████████████████████████       | 1.2 MB 5.2 MB/s eta 0:00:01\r\u001b[K     |█████████████████████████▎      | 1.2 MB 5.2 MB/s eta 0:00:01\r\u001b[K     |█████████████████████████▌      | 1.2 MB 5.2 MB/s eta 0:00:01\r\u001b[K     |█████████████████████████▊      | 1.2 MB 5.2 MB/s eta 0:00:01\r\u001b[K     |█████████████████████████▉      | 1.2 MB 5.2 MB/s eta 0:00:01\r\u001b[K     |██████████████████████████      | 1.2 MB 5.2 MB/s eta 0:00:01\r\u001b[K     |██████████████████████████▎     | 1.2 MB 5.2 MB/s eta 0:00:01\r\u001b[K     |██████████████████████████▌     | 1.2 MB 5.2 MB/s eta 0:00:01\r\u001b[K     |██████████████████████████▊     | 1.2 MB 5.2 MB/s eta 0:00:01\r\u001b[K     |███████████████████████████     | 1.3 MB 5.2 MB/s eta 0:00:01\r\u001b[K     |███████████████████████████▏    | 1.3 MB 5.2 MB/s eta 0:00:01\r\u001b[K     |███████████████████████████▍    | 1.3 MB 5.2 MB/s eta 0:00:01\r\u001b[K     |███████████████████████████▋    | 1.3 MB 5.2 MB/s eta 0:00:01\r\u001b[K     |███████████████████████████▉    | 1.3 MB 5.2 MB/s eta 0:00:01\r\u001b[K     |████████████████████████████    | 1.3 MB 5.2 MB/s eta 0:00:01\r\u001b[K     |████████████████████████████▎   | 1.3 MB 5.2 MB/s eta 0:00:01\r\u001b[K     |████████████████████████████▌   | 1.3 MB 5.2 MB/s eta 0:00:01\r\u001b[K     |████████████████████████████▊   | 1.3 MB 5.2 MB/s eta 0:00:01\r\u001b[K     |█████████████████████████████   | 1.4 MB 5.2 MB/s eta 0:00:01\r\u001b[K     |█████████████████████████████▏  | 1.4 MB 5.2 MB/s eta 0:00:01\r\u001b[K     |█████████████████████████████▍  | 1.4 MB 5.2 MB/s eta 0:00:01\r\u001b[K     |█████████████████████████████▋  | 1.4 MB 5.2 MB/s eta 0:00:01\r\u001b[K     |█████████████████████████████▉  | 1.4 MB 5.2 MB/s eta 0:00:01\r\u001b[K     |██████████████████████████████  | 1.4 MB 5.2 MB/s eta 0:00:01\r\u001b[K     |██████████████████████████████▎ | 1.4 MB 5.2 MB/s eta 0:00:01\r\u001b[K     |██████████████████████████████▌ | 1.4 MB 5.2 MB/s eta 0:00:01\r\u001b[K     |██████████████████████████████▊ | 1.4 MB 5.2 MB/s eta 0:00:01\r\u001b[K     |███████████████████████████████ | 1.4 MB 5.2 MB/s eta 0:00:01\r\u001b[K     |███████████████████████████████▏| 1.5 MB 5.2 MB/s eta 0:00:01\r\u001b[K     |███████████████████████████████▍| 1.5 MB 5.2 MB/s eta 0:00:01\r\u001b[K     |███████████████████████████████▋| 1.5 MB 5.2 MB/s eta 0:00:01\r\u001b[K     |███████████████████████████████▉| 1.5 MB 5.2 MB/s eta 0:00:01\r\u001b[K     |████████████████████████████████| 1.5 MB 5.2 MB/s \n",
            "\u001b[?25hRequirement already satisfied: typing-extensions>=3.10.0.2 in /usr/local/lib/python3.7/dist-packages (from Faker) (3.10.0.2)\n",
            "Requirement already satisfied: python-dateutil>=2.4 in /usr/local/lib/python3.7/dist-packages (from Faker) (2.8.2)\n",
            "Requirement already satisfied: six>=1.5 in /usr/local/lib/python3.7/dist-packages (from python-dateutil>=2.4->Faker) (1.15.0)\n",
            "Installing collected packages: Faker\n",
            "Successfully installed Faker-13.3.0\n"
          ]
        }
      ],
      "source": [
        "pip install Faker"
      ]
    },
    {
      "cell_type": "code",
      "source": [
        "from faker import Faker\n",
        "import json\t\t\n",
        "import random\n",
        "from random import randint\t\n",
        "\n",
        "fake = Faker()\n",
        "def input_data(x):\n",
        "\tstudent_data ={}\n",
        "\tfor i in range(0, x):\n",
        "\t\tstudent_data[i]={}\n",
        "\t\tstudent_data[i]['Email']= fake.email()\n",
        "\t\tstudent_data[i]['Address']= fake.address().replace(\"\\n\",\" \")\n",
        "\t\tstudent_data[i]['Name']= fake.name()\n",
        "\t\tstudent_data[i]['year']= random.randint(1950, 1990)\n",
        "\t\tstudent_data[i]['No. of Kids']= random.randint(0, 4)\n",
        "\t\tstudent_data[i]['Rent']= random.choices([\"OWN\",\"RENT\"])\n",
        "\t\tstudent_data[i]['Income']= \"$\"+str(random.randint(701999, 3606999))\n",
        "\t\tstudent_data[i]['Speed Tickets']= random.randint(0, 12)\n",
        "\tprint(student_data)\n",
        "\n",
        "\twith open('Outputformat2.json', 'w') as fp:\n",
        "\t\tjson.dump(student_data, fp)\n",
        "\t\n",
        "def main():\n",
        "  try:\n",
        "      intval = int(input(\"Enter the no. of rows to be generated in a file?   \"))\n",
        "      print(\"\", intval)\n",
        "      input_data(intval)\n",
        "  except ValueError:\n",
        "      print(\"Only integer values are accepted\")\n",
        "\t\n",
        "main()"
      ],
      "metadata": {
        "colab": {
          "base_uri": "https://localhost:8080/"
        },
        "id": "2wNNfzaIWtk9",
        "outputId": "07367671-59c6-4ed2-b9ce-7259ec42c9ea"
      },
      "execution_count": 3,
      "outputs": [
        {
          "output_type": "stream",
          "name": "stdout",
          "text": [
            "Enter the no. of rows to be generated in a file?   10\n",
            " 10\n",
            "{0: {'Email': 'tammymiller@example.com', 'Address': '648 Bryan Creek Downston, TX 04846', 'Name': 'Diane Mooney', 'year': 1961, 'No. of Kids': 2, 'Rent': ['RENT'], 'Income': '$1695197', 'Speed Tickets': 6}, 1: {'Email': 'lelinda@example.org', 'Address': '070 Sarah Rapids Gonzalezbury, CT 39487', 'Name': 'Mr. Cody Keller II', 'year': 1962, 'No. of Kids': 4, 'Rent': ['OWN'], 'Income': '$2620994', 'Speed Tickets': 8}, 2: {'Email': 'santiagosean@example.org', 'Address': 'Unit 1991 Box 3998 DPO AP 55593', 'Name': 'Cassandra Castaneda', 'year': 1962, 'No. of Kids': 2, 'Rent': ['OWN'], 'Income': '$3349591', 'Speed Tickets': 4}, 3: {'Email': 'bryanellen@example.org', 'Address': '8144 Shaw Mission Suite 004 Port Chad, DE 55282', 'Name': 'Patricia Barr', 'year': 1967, 'No. of Kids': 2, 'Rent': ['RENT'], 'Income': '$1460696', 'Speed Tickets': 5}, 4: {'Email': 'andreabaker@example.net', 'Address': '8501 Murray River Apt. 854 Coreytown, MO 96383', 'Name': 'Lisa Henderson', 'year': 1957, 'No. of Kids': 1, 'Rent': ['RENT'], 'Income': '$1848873', 'Speed Tickets': 10}, 5: {'Email': 'atanner@example.org', 'Address': '3021 Gary Coves Apt. 924 Alvinmouth, CA 83092', 'Name': 'Adam Boone', 'year': 1977, 'No. of Kids': 1, 'Rent': ['RENT'], 'Income': '$2690586', 'Speed Tickets': 9}, 6: {'Email': 'leeeric@example.org', 'Address': '078 Mcmahon Landing Johnsonshire, OH 39383', 'Name': 'Alan Macias', 'year': 1972, 'No. of Kids': 2, 'Rent': ['OWN'], 'Income': '$2443531', 'Speed Tickets': 8}, 7: {'Email': 'jason40@example.com', 'Address': '286 Mary Village Suite 478 Billyborough, NY 52092', 'Name': 'Melanie Myers', 'year': 1965, 'No. of Kids': 2, 'Rent': ['RENT'], 'Income': '$2785818', 'Speed Tickets': 7}, 8: {'Email': 'johnbryant@example.com', 'Address': '6266 Dudley Port Suite 930 Michaelfort, WA 42652', 'Name': 'Christine Gilbert', 'year': 1960, 'No. of Kids': 1, 'Rent': ['OWN'], 'Income': '$3564393', 'Speed Tickets': 4}, 9: {'Email': 'danielwright@example.com', 'Address': '6889 Anna Crossroad Shawnstad, NC 25331', 'Name': 'Chelsea Allison', 'year': 1964, 'No. of Kids': 2, 'Rent': ['RENT'], 'Income': '$3387167', 'Speed Tickets': 9}}\n"
          ]
        }
      ]
    }
  ]
}