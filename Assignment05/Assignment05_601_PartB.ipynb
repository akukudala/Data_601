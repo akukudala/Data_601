{
  "nbformat": 4,
  "nbformat_minor": 0,
  "metadata": {
    "colab": {
      "name": "Assignment05_601_PartB.ipynb",
      "provenance": [],
      "collapsed_sections": [],
      "authorship_tag": "ABX9TyOwIBGWKtSSf4o+kSokm93K",
      "include_colab_link": true
    },
    "kernelspec": {
      "name": "python3",
      "display_name": "Python 3"
    },
    "language_info": {
      "name": "python"
    }
  },
  "cells": [
    {
      "cell_type": "markdown",
      "metadata": {
        "id": "view-in-github",
        "colab_type": "text"
      },
      "source": [
        "<a href=\"https://colab.research.google.com/github/akukudala/Data_601/blob/main/Assignment05/Assignment05_601_PartB.ipynb\" target=\"_parent\"><img src=\"https://colab.research.google.com/assets/colab-badge.svg\" alt=\"Open In Colab\"/></a>"
      ]
    },
    {
      "cell_type": "markdown",
      "source": [
        "Part 2: Simulate a fair die and a biased 6-sided die. The biased die has probabilities {0.15, 0.15, 0.15, 0.15, 0.15, 0.25}. Create a visualization that compares outcomes of multiple rolls of a fair die and this biased die. You can use a single visualization or multiple visualizations to demonstrate the difference in outcomes for the dice. The user of your notebook should be able to alter the number of simulations as an argument to a function. "
      ],
      "metadata": {
        "id": "0DlI-8h4bh4t"
      }
    },
    {
      "cell_type": "code",
      "execution_count": 64,
      "metadata": {
        "id": "hl1BNWWGbhBw"
      },
      "outputs": [],
      "source": [
        "probs=[0.15, 0.15, 0.15, 0.15, 0.15, 0.25]"
      ]
    },
    {
      "cell_type": "code",
      "source": [
        "import random\n",
        "\n",
        "def fair_die(trials):\n",
        "    values=[1,2,3,4,5,6]\n",
        "    simulations_arr=[]\n",
        "    for i in range(trials):\n",
        "        output=random.choice(values)\n",
        "        simulations_arr.append(output)\n",
        "    return simulations_arr\n",
        "\n"
      ],
      "metadata": {
        "id": "f6hBEE94btja"
      },
      "execution_count": 65,
      "outputs": []
    },
    {
      "cell_type": "code",
      "source": [
        "def biased_die(trial_count, probs = [0.15, 0.15, 0.15, 0.15, 0.15, 0.25]):\n",
        "    values=[1,2,3,4,5,6]\n",
        "    simulations_arr=[]\n",
        "    simulations_arr=random.choices(values, weights= probs, k= trial_count)\n",
        "    return simulations_arr"
      ],
      "metadata": {
        "id": "BtOv4xDgcmj6"
      },
      "execution_count": 66,
      "outputs": []
    },
    {
      "cell_type": "code",
      "source": [
        "probs=[0.15, 0.15, 0.15, 0.15, 0.15, 0.25]\n",
        "# trial_count=500\n",
        "trial_count = int(input('Number of Trails? '))\n",
        "biased_func = biased_die(trial_count, probs)\n",
        "fair_func = fair_die(trial_count)\n",
        "print(biased_func)\n",
        "print(fair_func)"
      ],
      "metadata": {
        "colab": {
          "base_uri": "https://localhost:8080/"
        },
        "id": "VdHR5dMEdTfh",
        "outputId": "308954a3-1719-40cd-8de5-8a5435731d2e"
      },
      "execution_count": 68,
      "outputs": [
        {
          "output_type": "stream",
          "name": "stdout",
          "text": [
            "Number of Trails? 800\n",
            "[1, 5, 3, 6, 6, 6, 6, 5, 1, 4, 6, 3, 6, 1, 4, 6, 1, 3, 6, 4, 1, 4, 2, 4, 6, 2, 5, 6, 4, 5, 2, 2, 3, 6, 3, 1, 6, 6, 1, 6, 2, 6, 3, 5, 6, 5, 1, 5, 4, 4, 1, 6, 5, 6, 2, 6, 5, 5, 2, 5, 6, 6, 6, 6, 1, 4, 4, 3, 6, 1, 1, 6, 5, 4, 6, 2, 6, 6, 1, 6, 2, 2, 6, 5, 3, 6, 2, 3, 6, 1, 1, 3, 5, 2, 6, 1, 6, 6, 4, 6, 5, 6, 3, 6, 6, 5, 1, 3, 3, 1, 3, 1, 1, 4, 2, 4, 1, 4, 5, 6, 2, 5, 2, 6, 2, 3, 2, 6, 4, 5, 5, 6, 2, 6, 5, 1, 4, 6, 6, 2, 4, 1, 5, 5, 5, 6, 1, 4, 6, 5, 1, 6, 6, 2, 3, 3, 2, 6, 4, 6, 4, 6, 3, 1, 4, 5, 3, 2, 3, 6, 5, 1, 3, 5, 5, 6, 1, 5, 6, 6, 6, 6, 6, 5, 4, 3, 1, 6, 3, 4, 3, 6, 6, 5, 2, 3, 2, 3, 6, 4, 6, 1, 6, 5, 3, 6, 6, 6, 2, 3, 2, 6, 6, 6, 4, 6, 1, 6, 4, 2, 2, 4, 5, 6, 6, 6, 4, 5, 3, 1, 6, 4, 1, 5, 6, 4, 6, 4, 6, 6, 3, 5, 6, 2, 4, 4, 3, 6, 6, 3, 4, 6, 6, 2, 1, 6, 2, 3, 4, 1, 6, 5, 6, 4, 2, 2, 1, 6, 5, 6, 1, 1, 6, 2, 1, 6, 5, 3, 1, 4, 4, 5, 1, 4, 4, 6, 5, 2, 6, 6, 3, 6, 6, 4, 6, 2, 6, 6, 3, 6, 6, 6, 3, 1, 3, 4, 1, 6, 6, 4, 4, 6, 1, 2, 5, 3, 6, 4, 2, 5, 1, 5, 2, 3, 6, 3, 3, 6, 4, 2, 2, 2, 6, 6, 5, 3, 2, 6, 6, 6, 2, 5, 3, 3, 5, 4, 5, 1, 5, 2, 1, 3, 3, 4, 2, 2, 4, 2, 4, 3, 6, 1, 5, 1, 3, 5, 6, 2, 4, 5, 6, 4, 3, 4, 4, 4, 6, 5, 6, 5, 1, 3, 2, 3, 6, 3, 6, 1, 5, 1, 3, 3, 5, 4, 5, 4, 5, 3, 6, 6, 1, 5, 3, 6, 5, 4, 4, 6, 2, 1, 5, 6, 2, 6, 5, 6, 5, 2, 5, 2, 6, 5, 5, 3, 5, 5, 6, 1, 6, 3, 5, 5, 6, 6, 4, 3, 2, 6, 2, 2, 5, 1, 4, 4, 4, 2, 2, 3, 4, 4, 6, 2, 3, 6, 2, 2, 6, 2, 2, 5, 3, 4, 2, 3, 5, 3, 2, 6, 5, 6, 1, 1, 5, 6, 1, 6, 6, 5, 1, 1, 3, 1, 1, 4, 1, 3, 1, 6, 3, 6, 4, 2, 5, 3, 4, 2, 4, 4, 6, 6, 6, 5, 6, 4, 1, 5, 6, 5, 6, 3, 2, 3, 6, 2, 6, 3, 6, 3, 1, 1, 3, 3, 6, 4, 1, 1, 6, 5, 1, 3, 4, 6, 1, 3, 2, 6, 5, 6, 1, 4, 2, 6, 4, 2, 6, 6, 4, 2, 5, 4, 2, 2, 2, 3, 1, 2, 2, 5, 2, 3, 5, 3, 3, 1, 2, 4, 4, 6, 6, 5, 1, 2, 4, 5, 3, 4, 6, 5, 2, 4, 4, 2, 6, 6, 6, 2, 3, 1, 5, 5, 1, 2, 6, 5, 5, 5, 1, 5, 6, 6, 2, 4, 3, 5, 3, 6, 4, 4, 3, 2, 3, 2, 4, 6, 5, 2, 6, 2, 6, 2, 3, 4, 3, 6, 1, 1, 2, 5, 4, 4, 4, 2, 2, 1, 4, 5, 2, 6, 2, 6, 2, 2, 6, 1, 1, 6, 3, 3, 6, 6, 6, 5, 4, 4, 1, 6, 1, 4, 1, 1, 6, 6, 3, 2, 1, 2, 4, 3, 2, 1, 1, 3, 4, 3, 2, 3, 3, 5, 1, 3, 4, 2, 2, 1, 2, 3, 3, 4, 6, 3, 4, 1, 1, 6, 2, 3, 2, 4, 5, 2, 6, 3, 6, 5, 5, 6, 1, 4, 3, 6, 3, 4, 3, 4, 3, 4, 6, 4, 4, 2, 5, 1, 2, 5, 1, 6, 6, 5, 4, 3, 1, 3, 4, 2, 6, 6, 2, 6, 4, 6, 2, 2, 5, 6, 6, 3, 2, 6, 5, 1, 1, 6, 3, 5, 2, 1, 1, 1, 6, 3, 2, 1, 2, 3, 4, 4, 5, 6, 6, 1, 2, 1, 5, 1, 3, 4, 6, 1, 4, 3, 3, 2, 2, 3, 4, 6, 6, 2, 3, 6, 6, 1, 1, 6, 1, 2, 1, 3, 1, 3]\n",
            "[6, 6, 2, 5, 3, 2, 1, 3, 6, 5, 6, 6, 3, 1, 4, 1, 1, 3, 5, 2, 6, 4, 5, 4, 6, 4, 6, 2, 3, 2, 2, 2, 4, 3, 3, 1, 2, 6, 3, 6, 1, 1, 2, 2, 2, 4, 5, 1, 3, 3, 1, 1, 4, 2, 5, 1, 5, 3, 4, 4, 1, 2, 5, 2, 2, 2, 2, 3, 2, 5, 4, 1, 2, 1, 4, 5, 1, 3, 3, 4, 3, 4, 4, 5, 4, 1, 4, 4, 4, 6, 3, 1, 6, 4, 1, 5, 6, 1, 4, 6, 4, 1, 1, 6, 5, 5, 3, 2, 5, 3, 6, 6, 1, 1, 1, 1, 6, 2, 5, 4, 3, 5, 5, 5, 1, 5, 3, 4, 5, 5, 5, 2, 5, 6, 5, 2, 5, 2, 2, 6, 3, 6, 4, 6, 5, 2, 1, 4, 5, 4, 1, 5, 1, 3, 2, 1, 3, 4, 5, 1, 6, 2, 4, 6, 5, 2, 6, 4, 5, 4, 5, 6, 2, 1, 6, 4, 6, 1, 5, 4, 2, 1, 5, 6, 2, 4, 1, 6, 3, 6, 4, 5, 3, 2, 5, 2, 2, 2, 5, 1, 2, 6, 6, 1, 4, 2, 2, 1, 1, 1, 4, 4, 1, 6, 6, 2, 5, 6, 3, 4, 5, 1, 6, 4, 4, 1, 4, 1, 2, 2, 3, 1, 6, 4, 6, 3, 2, 5, 2, 3, 2, 2, 4, 3, 3, 4, 3, 3, 1, 4, 6, 5, 6, 6, 3, 6, 1, 4, 3, 2, 3, 5, 3, 6, 2, 6, 5, 4, 1, 3, 5, 5, 1, 1, 6, 4, 3, 4, 4, 1, 4, 6, 5, 1, 3, 6, 4, 5, 5, 2, 2, 5, 3, 4, 3, 1, 6, 3, 5, 4, 3, 5, 2, 5, 6, 1, 6, 5, 1, 6, 4, 2, 6, 5, 4, 1, 6, 2, 4, 1, 4, 3, 6, 2, 5, 3, 3, 6, 4, 4, 6, 2, 3, 1, 1, 2, 4, 5, 1, 3, 4, 3, 2, 5, 5, 1, 6, 6, 2, 5, 5, 4, 4, 2, 3, 4, 1, 6, 2, 1, 4, 2, 4, 1, 3, 2, 3, 1, 1, 4, 5, 4, 2, 1, 6, 4, 3, 5, 4, 3, 1, 4, 6, 5, 6, 1, 5, 6, 6, 2, 5, 2, 1, 4, 3, 6, 5, 3, 6, 2, 2, 1, 2, 3, 4, 1, 2, 3, 5, 3, 5, 1, 3, 6, 6, 1, 5, 1, 4, 4, 2, 6, 3, 5, 2, 2, 4, 4, 4, 3, 6, 3, 5, 3, 2, 6, 4, 1, 2, 1, 4, 2, 2, 4, 1, 5, 4, 2, 5, 2, 4, 1, 4, 2, 4, 2, 1, 4, 2, 4, 6, 1, 6, 3, 4, 5, 4, 3, 3, 3, 3, 6, 6, 4, 2, 2, 5, 1, 5, 4, 3, 5, 3, 5, 1, 3, 6, 1, 3, 5, 5, 1, 2, 5, 5, 6, 5, 5, 2, 4, 6, 6, 1, 1, 6, 4, 1, 6, 6, 3, 4, 5, 3, 6, 4, 3, 1, 3, 3, 2, 6, 5, 3, 1, 3, 1, 5, 1, 4, 5, 4, 6, 1, 2, 6, 1, 1, 3, 2, 1, 2, 5, 4, 1, 1, 4, 2, 6, 2, 6, 5, 6, 6, 5, 5, 6, 5, 3, 4, 5, 3, 1, 4, 6, 4, 3, 3, 2, 2, 4, 2, 1, 2, 4, 6, 3, 2, 4, 6, 3, 2, 2, 5, 2, 3, 4, 5, 2, 5, 5, 4, 2, 3, 5, 2, 3, 1, 1, 5, 4, 1, 5, 3, 5, 4, 3, 4, 4, 1, 4, 6, 5, 4, 4, 5, 4, 2, 6, 1, 3, 3, 6, 6, 1, 5, 2, 5, 4, 6, 6, 3, 4, 2, 6, 3, 2, 6, 1, 5, 3, 4, 4, 3, 5, 4, 4, 2, 2, 4, 1, 4, 6, 1, 2, 1, 2, 5, 2, 6, 5, 6, 1, 3, 3, 3, 5, 5, 3, 4, 5, 1, 5, 2, 1, 1, 5, 4, 1, 2, 6, 2, 5, 5, 4, 2, 3, 1, 3, 1, 5, 5, 6, 2, 1, 6, 3, 1, 5, 4, 4, 6, 2, 3, 6, 5, 3, 1, 4, 5, 2, 5, 4, 1, 2, 4, 4, 2, 2, 5, 5, 3, 6, 2, 3, 1, 1, 1, 5, 3, 1, 6, 1, 2, 5, 1, 3, 2, 4, 6, 1, 6, 5, 1, 6, 1, 6, 5, 2, 6, 5, 1, 2, 2, 4, 5, 3, 1, 2, 6, 6, 2, 6, 1, 1, 6, 5, 1, 1, 5, 4, 4, 1, 3, 5, 4, 3, 5, 3, 2, 1, 6, 3, 4, 6, 2, 3, 2, 4, 2, 4, 6, 3, 3, 1, 6, 5, 6, 6, 6, 5]\n"
          ]
        }
      ]
    },
    {
      "cell_type": "code",
      "source": [
        "\n",
        "result1 = dict((i, biased_func.count(i)) for i in biased_func)\n",
        "print(result1)"
      ],
      "metadata": {
        "colab": {
          "base_uri": "https://localhost:8080/"
        },
        "id": "FHWfvA51pFrx",
        "outputId": "ba155ef1-7393-4f7c-d462-955414265acd"
      },
      "execution_count": 69,
      "outputs": [
        {
          "output_type": "stream",
          "name": "stdout",
          "text": [
            "{1: 114, 5: 112, 3: 120, 6: 213, 4: 117, 2: 124}\n"
          ]
        }
      ]
    },
    {
      "cell_type": "code",
      "source": [
        "result2 = dict((i, fair_func.count(i)) for i in fair_func)\n",
        "print(result2)"
      ],
      "metadata": {
        "colab": {
          "base_uri": "https://localhost:8080/"
        },
        "id": "ArxVZYHspkMn",
        "outputId": "38addea3-2c22-4a9d-9e36-fbf73f12630d"
      },
      "execution_count": 70,
      "outputs": [
        {
          "output_type": "stream",
          "name": "stdout",
          "text": [
            "{6: 129, 2: 133, 5: 138, 3: 120, 1: 139, 4: 141}\n"
          ]
        }
      ]
    },
    {
      "cell_type": "code",
      "source": [
        "\n",
        "result1 = dict((i, biased_func.count(i)) for i in biased_func)\n",
        "\n",
        "print(\"The original dictionary is : \" + str(result1))\n",
        "  \n",
        "# Extracting all dictionary values\n",
        "# Using loop + keys()\n",
        "biased_res = []\n",
        "for key in result1.keys() :\n",
        "    biased_res.append(result1[key])\n",
        "  \n",
        "# printing result\n",
        "print(\"The list of values is : \" +  str(biased_res))\n",
        "print(biased_res)\n"
      ],
      "metadata": {
        "colab": {
          "base_uri": "https://localhost:8080/"
        },
        "id": "bOH2sFVxnqvf",
        "outputId": "f485ec76-0f7a-456f-f88d-0ed81cd37059"
      },
      "execution_count": 71,
      "outputs": [
        {
          "output_type": "stream",
          "name": "stdout",
          "text": [
            "The original dictionary is : {1: 114, 5: 112, 3: 120, 6: 213, 4: 117, 2: 124}\n",
            "The list of values is : [114, 112, 120, 213, 117, 124]\n",
            "[114, 112, 120, 213, 117, 124]\n"
          ]
        }
      ]
    },
    {
      "cell_type": "code",
      "source": [
        "\n",
        "result2 = dict((i, fair_func.count(i)) for i in fair_func)\n",
        "\n",
        "print(\"The original dictionary is : \" + str(result2))\n",
        "  \n",
        "# Extracting all dictionary values\n",
        "# Using loop + keys()\n",
        "fair_res = []\n",
        "for key in result2.keys() :\n",
        "    fair_res.append(result2[key])\n",
        "  \n",
        "# printing result\n",
        "print(\"The list of values is : \" +  str(fair_res))\n",
        "print(fair_res)\n"
      ],
      "metadata": {
        "colab": {
          "base_uri": "https://localhost:8080/"
        },
        "id": "USwiAtUBpdso",
        "outputId": "29a8a888-9d42-42ae-81d6-3a6cebe59ea1"
      },
      "execution_count": 72,
      "outputs": [
        {
          "output_type": "stream",
          "name": "stdout",
          "text": [
            "The original dictionary is : {6: 129, 2: 133, 5: 138, 3: 120, 1: 139, 4: 141}\n",
            "The list of values is : [129, 133, 138, 120, 139, 141]\n",
            "[129, 133, 138, 120, 139, 141]\n"
          ]
        }
      ]
    },
    {
      "cell_type": "code",
      "source": [
        "import matplotlib.pyplot as plt\n",
        "import numpy as np\n",
        "a = np.arange(6)\n",
        "b = 0.50\n",
        "fig, ax = plt.subplots(figsize=(9, 6))\n",
        "fair_bars = ax.bar(a - b / 2, fair_res, b, label='Fair Rolls')\n",
        "biased_bars = ax.bar(a + b / 2, biased_res, b, label='Biased Rolls')\n",
        "ax.set_ylabel('Frequency of values ')\n",
        "ax.set_xlabel('Dice values')\n",
        "ax.set_title('Fair Vs Biased Rolls Distribution')\n",
        "ax.set_xticks(a)\n",
        "ax.set_xticklabels(('1', '2', '3', '4', '5', '6'))\n",
        "ax.legend()\n",
        "plt.show()"
      ],
      "metadata": {
        "colab": {
          "base_uri": "https://localhost:8080/",
          "height": 404
        },
        "id": "70aYNoJIiJfe",
        "outputId": "d3323c88-8e2a-40c2-9c1a-96e2975520bb"
      },
      "execution_count": 73,
      "outputs": [
        {
          "output_type": "display_data",
          "data": {
            "text/plain": [
              "<Figure size 648x432 with 1 Axes>"
            ],
            "image/png": "[encoded data removed]"
          },
          "metadata": {
            "needs_background": "light"
          }
        }
      ]
    }
  ]
}